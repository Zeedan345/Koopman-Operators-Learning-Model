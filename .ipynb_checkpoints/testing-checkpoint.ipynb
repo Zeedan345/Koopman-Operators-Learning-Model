{
 "cells": [
  {
   "cell_type": "code",
   "execution_count": 53,
   "id": "6da65c92-fc93-4674-b28a-c48f26e2c026",
   "metadata": {},
   "outputs": [],
   "source": [
    "import numpy as np\n",
    "import torch\n",
    "import os\n",
    "import matplotlib.pyplot as plt\n",
    "import matplotlib.animation as animation\n",
    "from train import KoopmanModel, simulate"
   ]
  },
  {
   "cell_type": "markdown",
   "id": "cdb55290-4870-4373-a48c-ef9faa6724ea",
   "metadata": {},
   "source": [
    "Loading the Model"
   ]
  },
  {
   "cell_type": "code",
   "execution_count": 56,
   "id": "9f2d5a73-5682-4670-be6e-033dee39ed47",
   "metadata": {},
   "outputs": [
    {
     "name": "stdout",
     "output_type": "stream",
     "text": [
      "Using device: cuda\n"
     ]
    }
   ],
   "source": [
    "device = torch.device(\"cuda\" if torch.cuda.is_available() else \"cpu\")\n",
    "print(f\"Using device: {device}\")"
   ]
  },
  {
   "cell_type": "code",
   "execution_count": 58,
   "id": "a24113ba-a300-4dda-8a1e-de8e47e9e80e",
   "metadata": {},
   "outputs": [
    {
     "data": {
      "text/plain": [
       "KoopmanModel(\n",
       "  (encoder): SimpleGNN(\n",
       "    (conv1): GCNConv(2, 3)\n",
       "    (conv2): GCNConv(3, 3)\n",
       "  )\n",
       "  (decoder): SimpleGNN(\n",
       "    (conv1): GCNConv(3, 2)\n",
       "    (conv2): GCNConv(2, 2)\n",
       "  )\n",
       ")"
      ]
     },
     "execution_count": 58,
     "metadata": {},
     "output_type": "execute_result"
    }
   ],
   "source": [
    "save_folder = \"spring-koopman-models\"\n",
    "save_path = os.path.join(save_folder, \"spring-koopman-model-2.0.pth\")\n",
    "model = KoopmanModel(input_dim=2, koopman_dim=3).to(device)\n",
    "model.load_state_dict(torch.load(save_path, weights_only=True))\n",
    "model.eval()"
   ]
  },
  {
   "cell_type": "markdown",
   "id": "c9e7d211-e66f-4475-a475-6d2a8b8a6dd8",
   "metadata": {},
   "source": [
    "Generating Data For Testing"
   ]
  },
  {
   "cell_type": "code",
   "execution_count": 63,
   "id": "8fe63b81-efbe-4310-81d5-38307ed861d5",
   "metadata": {},
   "outputs": [],
   "source": [
    "num_masses = 4\n",
    "test_positions = np.random.rand(num_masses, 1)\n",
    "test_velocities = np.zeros((num_masses, 1))\n",
    "test_data = simulate(test_positions, test_velocities)"
   ]
  },
  {
   "cell_type": "code",
   "execution_count": null,
   "id": "73a6cf10-86bf-43a0-8557-0a955095f52e",
   "metadata": {},
   "outputs": [],
   "source": [
    "test_positions_tensor = torch.tensor(test_positions, dtype = torch.float)"
   ]
  }
 ],
 "metadata": {
  "kernelspec": {
   "display_name": "Python 3 (ipykernel)",
   "language": "python",
   "name": "python3"
  },
  "language_info": {
   "codemirror_mode": {
    "name": "ipython",
    "version": 3
   },
   "file_extension": ".py",
   "mimetype": "text/x-python",
   "name": "python",
   "nbconvert_exporter": "python",
   "pygments_lexer": "ipython3",
   "version": "3.12.4"
  }
 },
 "nbformat": 4,
 "nbformat_minor": 5
}
