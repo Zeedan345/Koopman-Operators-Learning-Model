{
 "cells": [
  {
   "cell_type": "code",
   "execution_count": 9,
   "id": "9dfecc71-1844-4954-937a-c594b8ace5d5",
   "metadata": {},
   "outputs": [
    {
     "name": "stdout",
     "output_type": "stream",
     "text": [
      "Using device: cuda\n"
     ]
    }
   ],
   "source": [
    "import numpy as np\n",
    "import torch\n",
    "import torch.nn as nn\n",
    "import torch.nn.functional as F\n",
    "from torch.optim import Adam\n",
    "from torch_geometric.data import Data\n",
    "from torch_geometric.nn import GCNConv\n",
    "import matplotlib.pyplot as plt\n",
    "\n",
    "device = torch.device(\"cuda\" if torch.cuda.is_available() else \"cpu\")\n",
    "print(f\"Using device: {device}\")"
   ]
  },
  {
   "cell_type": "code",
   "execution_count": 27,
   "id": "83e58358-35f2-4b9d-955d-54c6e7081717",
   "metadata": {},
   "outputs": [],
   "source": [
    "def simulate_lorenz(initial_state, steps = 500, dt= 0.01, sigma = 10.0, rho = 28.0, beta = 8.0/3.0):\n",
    "    def lorenz_system(state):\n",
    "        x, y, z = state\n",
    "        dxdt = sigma * (y - x)\n",
    "        dydt = x * (rho - z) - y\n",
    "        dzdt = x * y - beta * z\n",
    "        return np.array([dxdt, dydt, dzdt])\n",
    "    state = np.array(initial_state)\n",
    "    trajectory = []\n",
    "    for _ in range(steps):\n",
    "        trajectory.append(state.copy())\n",
    "        k1 = lorenz_system(state)\n",
    "        k2 = lorenz_system(state + 0.5 * dt * k1)\n",
    "        k3 = lorenz_system(state + 0.5 * dt * k2)\n",
    "        k4 = lorenz_system(state + dt * k3)\n",
    "        state += (dt / 6.0) * (k1 + 2*k2 + 2*k3 + k4)\n",
    "    return np.array(trajectory)\n",
    "        "
   ]
  },
  {
   "cell_type": "code",
   "execution_count": 35,
   "id": "3cb8264d-cece-419c-8303-29b614698d5e",
   "metadata": {},
   "outputs": [],
   "source": [
    "def create_graph_lorenz(trajectory):\n",
    "    edge_index = []\n",
    "    for i in range(len(trajectory)-1):\n",
    "        edge_index.append([i, i+1])\n",
    "    edge_index = torch.tensor(edge_index, dtype = torch.long).t().contiguous()\n",
    "    x = torch.tensor(trajectory, dtype = torch.float)\n",
    "\n",
    "    data = Data(x=x, edge_index = edge_index)\n",
    "    return data"
   ]
  },
  {
   "cell_type": "code",
   "execution_count": 51,
   "id": "1100bb35-c769-437a-9f98-75ebac0923e7",
   "metadata": {},
   "outputs": [],
   "source": [
    "class GNN(nn.Module):\n",
    "    def __init__(self, input_dim, hidden_dim, output_dim):\n",
    "        super(GNN, self).__init__()\n",
    "\n",
    "        self.fc1 = nn.Linear(input_dim, hidden_dim)\n",
    "        self.fc2 = nn.Linear(hidden_dim, hidden_dim)\n",
    "        self.fc3 = nn.Linear(hidden_dim, output_dim)\n",
    "\n",
    "        self.conv1 = GCNConv(input_dim, hidden_dim)\n",
    "        self.conv2 = GCNConv(hidden_dim, output_dim)\n",
    "\n",
    "        self.norm1 = nn.LayerNorm(hidden_dim)\n",
    "        self.norm2 = nn.LayerNorm(output_dim)\n",
    "\n",
    "    def create_full_graph(self, x):\n",
    "        n = x.size(0)\n",
    "        edge_index = torch.stack([\n",
    "            torch.repeat_interleave(torch.arange(n), n),\n",
    "            torch.tile(torch.arange(n), (n,))\n",
    "        ]).to(x.device)\n",
    "        return edge_index\n",
    "    def forward(self, data):\n",
    "        x, edge_index = data.x, data.edge_index\n",
    "        x = x.float()\n",
    "        edge_index = self.create_full_graph(x)\n",
    "        gnn_x = self.conv1(x, edge_index).relu()\n",
    "        gnn_x = self.norm1(gnn_x)\n",
    "        gnn_x = self.conv2(gnn_x, edge_index)\n",
    "        gnn_x = self.norm2(gnn_x)\n",
    "\n",
    "        fc_x = self.fc1(x).relu()\n",
    "        fc_x = self.fc3(fc_x).relu()\n",
    "        fc_x = self.fc3(fc_x)\n",
    "\n",
    "        return (gnn_x+ fc_x)/2"
   ]
  },
  {
   "cell_type": "code",
   "execution_count": 139,
   "id": "b11eb441-3291-47fc-a4e7-65efaf8d9fd0",
   "metadata": {},
   "outputs": [],
   "source": [
    "class KoopmanModel(torch.nn.Module):\n",
    "    def __init__(self, input_dim, koopman_dim):\n",
    "        super(KoopmanModel, self).__init__()\n",
    "        self.encoder = GNN(input_dim, koopman_dim, koopman_dim)\n",
    "        self.koopman_matrix = torch.nn.Parameter(torch.eye(koopman_dim))\n",
    "        self.decoder = GNN(koopman_dim, koopman_dim, input_dim)\n",
    "\n",
    "    def forward(self, data):\n",
    "        koopman_space = self.encoder(data)\n",
    "        next_koopman_space = koopman_space @ self.koopman_matrix\n",
    "        new_data = Data(x=next_koopman_space, edge_index = data.edge_index)\n",
    "        new_state = self.decoder(new_data)\n",
    "        return new_state"
   ]
  },
  {
   "cell_type": "code",
   "execution_count": 165,
   "id": "bb9126e3-b1c9-4731-8f41-274aae01e191",
   "metadata": {},
   "outputs": [],
   "source": [
    "def train_model(model, dataset, epochs = (10)):\n",
    "    optimizer = Adam(model.parameters(), lr = 0.01)\n",
    "    loss_fn = torch.nn.MSELoss()\n",
    "\n",
    "    model = model.to(device)\n",
    "    train_losses = []\n",
    "    for epoch in range(epochs):\n",
    "        total_loss = 0\n",
    "        for data in dataset:\n",
    "            data = data.to(device)\n",
    "            optimizer.zero_grad()\n",
    "            prediction = model(data)\n",
    "            loss = loss_fn(prediction, data.x)\n",
    "            loss.backward()\n",
    "            optimizer.step()\n",
    "            total_loss += loss.item()\n",
    "            \n",
    "        avg_loss = total_loss / len(dataset)\n",
    "        train_losses.append(avg_loss)\n",
    "        print(f\"Epoch {epoch + 1}, Loss {avg_loss}\")\n",
    "    plt.plot(range(epochs), train_losses)\n",
    "    plt.xlabel(\"Epochs\")\n",
    "    plt.ylabel(\"Loss\")\n",
    "    plt.title(\"Training Loss Over Time\")\n",
    "    plt.show()"
   ]
  },
  {
   "cell_type": "code",
   "execution_count": 167,
   "id": "a0496e37-4563-4763-a115-49d713a4100c",
   "metadata": {},
   "outputs": [],
   "source": [
    "initial_state = [1.0, 0.0, 0.0]\n",
    "lorenz_trajectory = simulate_lorenz(initial_state)\n",
    "dataset = [create_graph_lorenz(lorenz_trajectory) for _ in range(100)]"
   ]
  },
  {
   "cell_type": "code",
   "execution_count": 169,
   "id": "6dd69b7b-3319-4a5d-9d51-e7a50909fdbf",
   "metadata": {},
   "outputs": [],
   "source": [
    "model = KoopmanModel(input_dim = 3, koopman_dim = 3).to(device)"
   ]
  },
  {
   "cell_type": "code",
   "execution_count": 171,
   "id": "2ae94b78-320b-41be-aa94-474914a46942",
   "metadata": {},
   "outputs": [
    {
     "name": "stdout",
     "output_type": "stream",
     "text": [
      "Epoch 1, Loss 99.03905069351197\n",
      "Epoch 2, Loss 21.693682689666748\n",
      "Epoch 3, Loss 20.79503900527954\n",
      "Epoch 4, Loss 20.401706523895264\n",
      "Epoch 5, Loss 20.026589622497557\n",
      "Epoch 6, Loss 18.714058456420897\n",
      "Epoch 7, Loss 17.66216543197632\n",
      "Epoch 8, Loss 17.007677850723265\n",
      "Epoch 9, Loss 8.737797853946686\n",
      "Epoch 10, Loss 3.352334463596344\n",
      "Epoch 11, Loss 2.9630714011192323\n",
      "Epoch 12, Loss 2.7379627346992494\n",
      "Epoch 13, Loss 2.577988414764404\n",
      "Epoch 14, Loss 2.4512459087371825\n",
      "Epoch 15, Loss 2.3518084955215453\n",
      "Epoch 16, Loss 2.2861995315551757\n",
      "Epoch 17, Loss 2.218870849609375\n",
      "Epoch 18, Loss 2.1633943057060243\n",
      "Epoch 19, Loss 2.126780722141266\n",
      "Epoch 20, Loss 2.0979096937179564\n"
     ]
    },
    {
     "data": {
      "image/png": "[encoded data removed]",
      "text/plain": [
       "<Figure size 640x480 with 1 Axes>"
      ]
     },
     "metadata": {},
     "output_type": "display_data"
    }
   ],
   "source": [
    "train_model(model, dataset, epochs = 20)"
   ]
  },
  {
   "cell_type": "code",
   "execution_count": null,
   "id": "b0b16baa-71b8-4073-ae3f-6c571b6b9f2f",
   "metadata": {},
   "outputs": [],
   "source": []
  }
 ],
 "metadata": {
  "kernelspec": {
   "display_name": "Python 3 (ipykernel)",
   "language": "python",
   "name": "python3"
  },
  "language_info": {
   "codemirror_mode": {
    "name": "ipython",
    "version": 3
   },
   "file_extension": ".py",
   "mimetype": "text/x-python",
   "name": "python",
   "nbconvert_exporter": "python",
   "pygments_lexer": "ipython3",
   "version": "3.12.4"
  }
 },
 "nbformat": 4,
 "nbformat_minor": 5
}
