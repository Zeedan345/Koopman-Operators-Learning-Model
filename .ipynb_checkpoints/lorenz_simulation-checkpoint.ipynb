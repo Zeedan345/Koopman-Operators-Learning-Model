{
 "cells": [
  {
   "cell_type": "markdown",
   "id": "7f31d8dc-9bc8-465c-a3c2-09dc00823b47",
   "metadata": {},
   "source": [
    "Preparing Data For Training (Rope Data)"
   ]
  },
  {
   "cell_type": "code",
   "execution_count": 1,
   "id": "332f4a57-5c28-4b93-b582-22f690473627",
   "metadata": {},
   "outputs": [],
   "source": [
    "import numpy as np\n",
    "import torch\n",
    "import torch.nn as nn\n",
    "import torch.nn.functional as F\n",
    "from torch.optim import Adam\n",
    "import matplotlib.pyplot as plt"
   ]
  },
  {
   "cell_type": "code",
   "execution_count": 2,
   "id": "3bc835e5-398c-44d5-8ec6-7c99647c0ca1",
   "metadata": {},
   "outputs": [
    {
     "name": "stderr",
     "output_type": "stream",
     "text": [
      "UsageError: Line magic function `%%capture` not found.\n"
     ]
    }
   ],
   "source": [
    "#Lorenz Equation\n",
    "sigma = 10.0\n",
    "rho = 28.0\n",
    "beta = 8.0/3.0\n",
    "\n",
    "def lorenz(t, state):\n",
    "    x, y, z = state\n",
    "    dxdt = sigma * (y - z)\n",
    "    dydt = x * (rho - z) - y\n",
    "    dzdt = x * y - beta * z\n",
    "    return [dxdt, dydt, dzdt]\n",
    "\n",
    "initial_state = [1.5, 1.0, 1.0]\n",
    "t_span = (0, 50)\n",
    "t_eval = np.linspace(t_span[0], t_span[1], 10000) #Generate Evenly distributed points\n",
    "\n",
    "solution = solve_ivp(lorenz, t_span, initial_state, t_eval = t_eval)\n",
    "\n",
    "x, y, z = solution.y \n",
    "t = solution.t \n",
    "\n",
    "fig = plt.figure()\n",
    "ax = fig.add_subplot(projection = '3d')\n",
    "ax.plot(x, y, z, lw=0.5)\n",
    "ax.set_title(\"Lorenz Attractor\")\n",
    "plt.show()"
   ]
  },
  {
   "cell_type": "code",
   "execution_count": 17,
   "id": "91ffa250-4f76-4eb9-84d5-e54bb74ec046",
   "metadata": {},
   "outputs": [],
   "source": [
    "def simulate_lorenz(initial_state, steps=500, dt=0.01, \n",
    "                    sigma=10.0, rho=28.0, beta=8.0/3.0):\n",
    "    def lorenz_system(state):\n",
    "        x, y, z = state\n",
    "        dxdt = sigma * (y - x)\n",
    "        dydt = x * (rho - z) - y\n",
    "        dzdt = x * y - beta * z\n",
    "        return np.array([dxdt, dydt, dzdt])\n",
    "\n",
    "    state = np.array(initial_state)\n",
    "    trajectory = []\n",
    "    for _ in range(steps):\n",
    "        trajectory.append(state.copy())\n",
    "        # Runge-Kutta 4th order integration for better accuracy\n",
    "        k1 = lorenz_system(state)\n",
    "        k2 = lorenz_system(state + 0.5 * dt * k1)\n",
    "        k3 = lorenz_system(state + 0.5 * dt * k2)\n",
    "        k4 = lorenz_system(state + dt * k3)\n",
    "        state += (dt / 6.0) * (k1 + 2*k2 + 2*k3 + k4)\n",
    "    \n",
    "    return np.array(trajectory)"
   ]
  },
  {
   "cell_type": "markdown",
   "id": "cfeac9a8-2008-4ac4-b0fd-f2056e53a959",
   "metadata": {},
   "source": [
    "Building A Graph Neural Network(GNN)"
   ]
  },
  {
   "cell_type": "code",
   "execution_count": 24,
   "id": "a5d00e15-8b21-4e8f-8371-c00ecb9fc634",
   "metadata": {},
   "outputs": [
    {
     "name": "stdout",
     "output_type": "stream",
     "text": [
      "Using device: cuda\n"
     ]
    }
   ],
   "source": [
    "import torch\n",
    "from torch_geometric.data import Data\n",
    "from torch_geometric.nn import GCNConv\n",
    "\n",
    "device = torch.device(\"cuda\" if torch.cuda.is_available() else \"cpu\")\n",
    "print(f\"Using device: {device}\")"
   ]
  },
  {
   "cell_type": "code",
   "execution_count": 32,
   "id": "a6f9bed7-9dc2-4557-b35e-68ab0ad7cea3",
   "metadata": {},
   "outputs": [],
   "source": [
    "def create_sequence_data(trajectory):\n",
    "    \"\"\"Create sequences for training with next-step prediction\"\"\"\n",
    "    X, y = [], []\n",
    "    for i in range(len(trajectory) - 1):\n",
    "        X.append(trajectory[i])\n",
    "        y.append(trajectory[i+1])\n",
    "    return np.array(X), np.array(y)"
   ]
  },
  {
   "cell_type": "code",
   "execution_count": 34,
   "id": "1b41a50d-1336-465a-bd46-117b1e84774a",
   "metadata": {},
   "outputs": [],
   "source": [
    "class ImprovedGNN(nn.Module):\n",
    "    def __init__(self, input_dim, hidden_dim, output_dim):\n",
    "        super(ImprovedGNN, self).__init__()\n",
    "        # Add fully connected layers for comparison\n",
    "        self.fc1 = nn.Linear(input_dim, hidden_dim)\n",
    "        self.fc2 = nn.Linear(hidden_dim, hidden_dim)\n",
    "        self.fc3 = nn.Linear(hidden_dim, output_dim)\n",
    "        \n",
    "        # GNN layers (with fully connected graph)\n",
    "        self.conv1 = GCNConv(input_dim, hidden_dim)\n",
    "        self.conv2 = GCNConv(hidden_dim, output_dim)\n",
    "        \n",
    "        # Layer normalization for stability\n",
    "        self.norm1 = nn.LayerNorm(hidden_dim)\n",
    "        self.norm2 = nn.LayerNorm(output_dim)\n",
    "\n",
    "    def create_full_graph(self, x):\n",
    "        \"\"\"Create a fully connected graph\"\"\"\n",
    "        n = x.size(0)\n",
    "        edge_index = torch.stack([\n",
    "            torch.repeat_interleave(torch.arange(n), n),\n",
    "            torch.tile(torch.arange(n), (n,))\n",
    "        ]).to(x.device)\n",
    "        return edge_index\n",
    "\n",
    "    def forward(self, x):\n",
    "        # Ensure input is a tensor\n",
    "        x = x.float()\n",
    "        \n",
    "        # Create fully connected graph\n",
    "        edge_index = self.create_full_graph(x)\n",
    "        \n",
    "        # GNN path\n",
    "        gnn_x = self.conv1(x, edge_index).relu()\n",
    "        gnn_x = self.norm1(gnn_x)\n",
    "        gnn_x = self.conv2(gnn_x, edge_index)\n",
    "        gnn_x = self.norm2(gnn_x)\n",
    "        \n",
    "        # Fully connected path\n",
    "        fc_x = self.fc1(x).relu()\n",
    "        fc_x = self.fc2(fc_x).relu()\n",
    "        fc_x = self.fc3(fc_x)\n",
    "        \n",
    "        # Combine GNN and FC outputs\n",
    "        return (gnn_x + fc_x) / 2"
   ]
  },
  {
   "cell_type": "code",
   "execution_count": null,
   "id": "8fe06c4c-096b-4050-bea3-15e4fd6419dd",
   "metadata": {},
   "outputs": [],
   "source": []
  },
  {
   "cell_type": "code",
   "execution_count": 36,
   "id": "de3a4791-ae14-49f0-91dd-b9f71a84766a",
   "metadata": {},
   "outputs": [],
   "source": [
    "class KoopmanModel(torch.nn.Module):\n",
    "    def __init__(self, input_dim, koopman_dim):\n",
    "        super(KoopmanModel, self).__init__()\n",
    "        self.encoder = SimpleGNN(input_dim, koopman_dim)\n",
    "        self.koopman_matrix = torch.nn.Parameter(torch.eye(koopman_dim).to(device))\n",
    "        self.decoder = SimpleGNN(koopman_dim, input_dim)\n",
    "    def forward(self, data):\n",
    "        #print(\"Type of data in KoopmanModel:\", type(data))\n",
    "        koopman_space = self.encoder(data)\n",
    "        #print(\"koopman_space shape:\", koopman_space.shape)\n",
    "        next_koopman_space = koopman_space @ self.koopman_matrix\n",
    "        new_data = Data(x=next_koopman_space, edge_index=data.edge_index)\n",
    "        next_state = self.decoder(new_data)\n",
    "        #print(\"next_state shape:\", next_state.shape)\n",
    "        return next_state"
   ]
  },
  {
   "cell_type": "code",
   "execution_count": 38,
   "id": "b5d118ca-d61a-4da2-9058-275cf5d6cc1f",
   "metadata": {},
   "outputs": [],
   "source": [
    "from torch.optim import Adam\n",
    "\n",
    "def train_model(model, dataset, epochs=(10)):\n",
    "    optimizer = Adam(model.parameters(), lr=0.01)\n",
    "    loss_fn = torch.nn.MSELoss()\n",
    "\n",
    "    model = model.to(device)\n",
    "    for epoch in range(epochs):\n",
    "        total_loss = 0\n",
    "        correct = 0\n",
    "        total_samples = 0 \n",
    "        for data in dataset:\n",
    "            data = data.to(device)\n",
    "            #print(type(data))\n",
    "\n",
    "            optimizer.zero_grad()\n",
    "\n",
    "            prediction = model(data)\n",
    "\n",
    "            loss = loss_fn(prediction, data.x)\n",
    "            loss.backward()\n",
    "            optimizer.step()\n",
    "            total_loss += loss.item()\n",
    "            threshold = 0.15\n",
    "            correct += (torch.abs(prediction - data.x) < threshold).sum().item()\n",
    "            total_samples += data.x.numel()  \n",
    "        accuracy = (correct / total_samples) * 100 \n",
    "        print(f\"Epoch {epoch + 1}, Loss {total_loss/len(dataset)}, Accuracy{accuracy:.2f}\")"
   ]
  },
  {
   "cell_type": "code",
   "execution_count": 40,
   "id": "bfa903ed-9631-458d-a6a5-f9a9c80f0593",
   "metadata": {},
   "outputs": [
    {
     "name": "stdout",
     "output_type": "stream",
     "text": [
      "<class 'torch_geometric.data.data.Data'>\n",
      "tensor([[1., 1., 1.]])\n"
     ]
    }
   ],
   "source": [
    "dataset = [create_graph_lorenz(state) for state in data]\n",
    "print(type(dataset[0]))\n",
    "print(dataset[0].x)"
   ]
  },
  {
   "cell_type": "code",
   "execution_count": 42,
   "id": "a383d771-6db5-432b-8798-bc3b7c360612",
   "metadata": {},
   "outputs": [],
   "source": [
    "model = KoopmanModel(input_dim=3, koopman_dim=4).to(device)"
   ]
  },
  {
   "cell_type": "code",
   "execution_count": 44,
   "id": "f41c5d3c-e041-4782-8ec9-bf5493d0deea",
   "metadata": {},
   "outputs": [
    {
     "name": "stdout",
     "output_type": "stream",
     "text": [
      "Epoch 1, Loss 26.472106376968323, Accuracy8.53\n",
      "Epoch 2, Loss 24.914316146660596, Accuracy6.40\n",
      "Epoch 3, Loss 129.55522833403944, Accuracy2.00\n",
      "Epoch 4, Loss 137.6561787494421, Accuracy1.20\n",
      "Epoch 5, Loss 74.37729825830459, Accuracy2.27\n",
      "Epoch 6, Loss 71.51994390539825, Accuracy1.67\n",
      "Epoch 7, Loss 76.66209222888946, Accuracy1.53\n",
      "Epoch 8, Loss 69.12719386804103, Accuracy1.60\n",
      "Epoch 9, Loss 57.86012925791741, Accuracy2.33\n",
      "Epoch 10, Loss 56.66540312349796, Accuracy2.27\n"
     ]
    }
   ],
   "source": [
    "train_model(model, dataset, epochs=10)"
   ]
  },
  {
   "cell_type": "code",
   "execution_count": null,
   "id": "6c40b05a-956e-461b-b481-75b61b3430e6",
   "metadata": {},
   "outputs": [],
   "source": [
    "import os"
   ]
  },
  {
   "cell_type": "code",
   "execution_count": 28,
   "id": "4185a89c-8f3a-455d-ac69-bd50d3e49ed4",
   "metadata": {},
   "outputs": [],
   "source": [
    "save_folder = \"spring-koopman-models\"\n",
    "os.makedirs(save_folder, exist_ok = True)"
   ]
  },
  {
   "cell_type": "code",
   "execution_count": 30,
   "id": "052d1031-b6dd-4392-b290-3cba8b9e788a",
   "metadata": {},
   "outputs": [
    {
     "name": "stdout",
     "output_type": "stream",
     "text": [
      "Model saved to spring-koopman-models\\spring-koopman-model-2.0.pth\n"
     ]
    }
   ],
   "source": [
    "save_path = os.path.join(save_folder, \"spring-koopman-model-2.0.pth\")\n",
    "torch.save(model.state_dict(), save_path)\n",
    "\n",
    "print(f\"Model saved to {save_path}\")"
   ]
  },
  {
   "cell_type": "code",
   "execution_count": 34,
   "id": "713977b4-9253-4d97-a58d-058aae33d1fa",
   "metadata": {},
   "outputs": [
    {
     "data": {
      "text/plain": [
       "KoopmanModel(\n",
       "  (encoder): SimpleGNN(\n",
       "    (conv1): GCNConv(2, 3)\n",
       "    (conv2): GCNConv(3, 3)\n",
       "  )\n",
       "  (decoder): SimpleGNN(\n",
       "    (conv1): GCNConv(3, 2)\n",
       "    (conv2): GCNConv(2, 2)\n",
       "  )\n",
       ")"
      ]
     },
     "execution_count": 34,
     "metadata": {},
     "output_type": "execute_result"
    }
   ],
   "source": [
    "model = KoopmanModel(input_dim=2, koopman_dim=3).to(device)\n",
    "model.load_state_dict(torch.load(save_path, weights_only=True))\n",
    "model.eval()"
   ]
  },
  {
   "cell_type": "code",
   "execution_count": null,
   "id": "b275d39e-8676-4c05-8fe5-2cdddef67719",
   "metadata": {},
   "outputs": [],
   "source": []
  },
  {
   "cell_type": "code",
   "execution_count": null,
   "id": "2f3b4887-32da-4731-a03e-af72ceb292a4",
   "metadata": {},
   "outputs": [],
   "source": []
  }
 ],
 "metadata": {
  "kernelspec": {
   "display_name": "Python 3 (ipykernel)",
   "language": "python",
   "name": "python3"
  },
  "language_info": {
   "codemirror_mode": {
    "name": "ipython",
    "version": 3
   },
   "file_extension": ".py",
   "mimetype": "text/x-python",
   "name": "python",
   "nbconvert_exporter": "python",
   "pygments_lexer": "ipython3",
   "version": "3.11.3"
  }
 },
 "nbformat": 4,
 "nbformat_minor": 5
}
