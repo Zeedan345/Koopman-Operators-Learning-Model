{
 "cells": [
  {
   "cell_type": "markdown",
   "id": "7f31d8dc-9bc8-465c-a3c2-09dc00823b47",
   "metadata": {},
   "source": [
    "Preparing Data For Training (Rope Data)"
   ]
  },
  {
   "cell_type": "code",
   "execution_count": 2,
   "id": "332f4a57-5c28-4b93-b582-22f690473627",
   "metadata": {},
   "outputs": [],
   "source": [
    "import numpy as np"
   ]
  },
  {
   "cell_type": "code",
   "execution_count": 3,
   "id": "75548ac5-427d-43d0-a745-398b9daeca12",
   "metadata": {},
   "outputs": [],
   "source": [
    "#Parmeters\n",
    "num_masses = 4\n",
    "dt = 0.01 \n",
    "k = 1.0\n",
    "mass = 1.0"
   ]
  },
  {
   "cell_type": "code",
   "execution_count": 4,
   "id": "e69d5d0a-6f51-4121-b2b2-3590241e72a6",
   "metadata": {},
   "outputs": [],
   "source": [
    "positions = np.random.rand(num_masses, 1)\n",
    "velocities = np.zeros((num_masses, 1))"
   ]
  },
  {
   "cell_type": "code",
   "execution_count": 8,
   "id": "16b6435c-68bd-43d2-b3cf-985c1fae831e",
   "metadata": {},
   "outputs": [],
   "source": [
    "#Simulate System And Store Data\n",
    "\n",
    "def simulate(positions, velocities, steps=100):\n",
    "    trajectory = []\n",
    "    for _ in range(steps):\n",
    "        forces = np.zeros_like(positions)\n",
    "        for i in range(1, num_masses -1 ):\n",
    "            #Hooke's Law\n",
    "            left_force = -k*(positions[i] - positions[i - 1])\n",
    "            right_force = -k * (positions[i] - positions[i+1])\n",
    "            forces[i] = (left_force + right_force)\n",
    "        accelerations = forces / mass\n",
    "        velocities += accelerations * dt\n",
    "        positions += velocities * dt\n",
    "        trajectory.append((positions.copy(), velocities.copy()))\n",
    "    return trajectory\n",
    "\n",
    "data = simulate(positions, velocities)"
   ]
  },
  {
   "cell_type": "markdown",
   "id": "cfeac9a8-2008-4ac4-b0fd-f2056e53a959",
   "metadata": {},
   "source": [
    "Building A Graph Neural Network(GNN)"
   ]
  },
  {
   "cell_type": "code",
   "execution_count": 11,
   "id": "a5d00e15-8b21-4e8f-8371-c00ecb9fc634",
   "metadata": {},
   "outputs": [
    {
     "name": "stdout",
     "output_type": "stream",
     "text": [
      "Using device: cuda\n"
     ]
    }
   ],
   "source": [
    "import torch\n",
    "from torch_geometric.data import Data\n",
    "from torch_geometric.nn import GCNConv\n",
    "\n",
    "device = torch.device(\"cuda\" if torch.cuda.is_available() else \"cpu\")\n",
    "print(f\"Using device: {device}\")"
   ]
  },
  {
   "cell_type": "code",
   "execution_count": 12,
   "id": "a6f9bed7-9dc2-4557-b35e-68ab0ad7cea3",
   "metadata": {},
   "outputs": [],
   "source": [
    "#Create a Graph Representation\n",
    "def create_graph(data):\n",
    "    nodes = torch.tensor(data, dtype = torch.float)\n",
    "    edges = torch.tensor([[i, i+1] for i in range(num_masses - 1)], dtype = torch.long).T\n",
    "    return Data(x=nodes, edge_index = edges)"
   ]
  },
  {
   "cell_type": "code",
   "execution_count": 13,
   "id": "1b41a50d-1336-465a-bd46-117b1e84774a",
   "metadata": {},
   "outputs": [],
   "source": [
    "#GNN Model\n",
    "class SimpleGNN(torch.nn.Module):\n",
    "    def __init__(self, input_dim, hidden_dim):\n",
    "        super(SimpleGNN, self).__init__()\n",
    "        self.conv1 = GCNConv(input_dim, hidden_dim)\n",
    "        self.conv2 = GCNConv(hidden_dim, hidden_dim)\n",
    "    def forward(self, data):\n",
    "        x, edge_index = data.x, data.edge_index\n",
    "        x = self.conv1(x, edge_index).relu()\n",
    "        x = self.conv2(x, edge_index)\n",
    "        return x"
   ]
  },
  {
   "cell_type": "code",
   "execution_count": 14,
   "id": "de3a4791-ae14-49f0-91dd-b9f71a84766a",
   "metadata": {},
   "outputs": [],
   "source": [
    "class KoopmanModel(torch.nn.Module):\n",
    "    def __init__(self, input_dim, koopman_dim):\n",
    "        super(KoopmanModel, self).__init__()\n",
    "        self.encoder = SimpleGNN(input_dim, koopman_dim)\n",
    "        self.koopman_matrix = torch.nn.Parameter(torch.eye(koopman_dim))\n",
    "        self.decoder = SimpleGNN(koopman_dim, input_dim)\n",
    "    def forward(self, data):\n",
    "        koopman_space = self.encoder(data)\n",
    "        next_koopman_space = koopman_space @ self.koopman_matrix\n",
    "        next_state = self.decoder(next_koopman_space)\n",
    "        return next_state"
   ]
  },
  {
   "cell_type": "code",
   "execution_count": 15,
   "id": "b5d118ca-d61a-4da2-9058-275cf5d6cc1f",
   "metadata": {},
   "outputs": [],
   "source": [
    "from torch.optim import Adam\n",
    "\n",
    "def train_model(model, dataset, epochs=(100)):\n",
    "    optimizer = Adam(model.parameters(), lr=0.01)\n",
    "    loss_fn = torch.nn.MSELoss()\n",
    "\n",
    "    for epoch in range(epochs):\n",
    "        total_loss = 0;\n",
    "        for pos, val in dataset:\n",
    "            data = create_graph((pos, val))\n",
    "            data.x = data.x.to(device)\n",
    "            data.edge_index = data.edge_index.to(device)\n",
    "\n",
    "            optimizer.zero_grad()\n",
    "\n",
    "            prediction = model(data)\n",
    "\n",
    "            loss = loss_fn(prediction, data.x)\n",
    "            loss.backward()\n",
    "            optimizer.step()\n",
    "\n",
    "            total_loss += loss.item()\n",
    "        print(f\"Epoch {epoch + 1}, Loss {total_loss/len(dataset)}\")"
   ]
  },
  {
   "cell_type": "code",
   "execution_count": 16,
   "id": "bfa903ed-9631-458d-a6a5-f9a9c80f0593",
   "metadata": {},
   "outputs": [
    {
     "name": "stderr",
     "output_type": "stream",
     "text": [
      "C:\\Users\\zeeda\\AppData\\Local\\Temp\\ipykernel_6304\\3442457401.py:3: UserWarning: Creating a tensor from a list of numpy.ndarrays is extremely slow. Please consider converting the list to a single numpy.ndarray with numpy.array() before converting to a tensor. (Triggered internally at C:\\actions-runner\\_work\\pytorch\\pytorch\\builder\\windows\\pytorch\\torch\\csrc\\utils\\tensor_new.cpp:281.)\n",
      "  nodes = torch.tensor(data, dtype = torch.float)\n"
     ]
    },
    {
     "ename": "AttributeError",
     "evalue": "'Tensor' object has no attribute 'x'",
     "output_type": "error",
     "traceback": [
      "\u001b[1;31m---------------------------------------------------------------------------\u001b[0m",
      "\u001b[1;31mAttributeError\u001b[0m                            Traceback (most recent call last)",
      "Cell \u001b[1;32mIn[16], line 3\u001b[0m\n\u001b[0;32m      1\u001b[0m dataset \u001b[38;5;241m=\u001b[39m [(pos, val) \u001b[38;5;28;01mfor\u001b[39;00m pos, val \u001b[38;5;129;01min\u001b[39;00m data]\n\u001b[0;32m      2\u001b[0m model \u001b[38;5;241m=\u001b[39m KoopmanModel(input_dim\u001b[38;5;241m=\u001b[39m\u001b[38;5;241m1\u001b[39m,koopman_dim \u001b[38;5;241m=\u001b[39m \u001b[38;5;241m3\u001b[39m)\u001b[38;5;241m.\u001b[39mto(device)\n\u001b[1;32m----> 3\u001b[0m train_model(model, dataset, epochs\u001b[38;5;241m=\u001b[39m\u001b[38;5;241m100\u001b[39m)\n",
      "Cell \u001b[1;32mIn[15], line 16\u001b[0m, in \u001b[0;36mtrain_model\u001b[1;34m(model, dataset, epochs)\u001b[0m\n\u001b[0;32m     12\u001b[0m data\u001b[38;5;241m.\u001b[39medge_index \u001b[38;5;241m=\u001b[39m data\u001b[38;5;241m.\u001b[39medge_index\u001b[38;5;241m.\u001b[39mto(device)\n\u001b[0;32m     14\u001b[0m optimizer\u001b[38;5;241m.\u001b[39mzero_grad()\n\u001b[1;32m---> 16\u001b[0m prediction \u001b[38;5;241m=\u001b[39m model(data)\n\u001b[0;32m     18\u001b[0m loss \u001b[38;5;241m=\u001b[39m loss_fn(prediction, data\u001b[38;5;241m.\u001b[39mx)\n\u001b[0;32m     19\u001b[0m loss\u001b[38;5;241m.\u001b[39mbackward()\n",
      "File \u001b[1;32m~\\anaconda3\\Lib\\site-packages\\torch\\nn\\modules\\module.py:1736\u001b[0m, in \u001b[0;36mModule._wrapped_call_impl\u001b[1;34m(self, *args, **kwargs)\u001b[0m\n\u001b[0;32m   1734\u001b[0m     \u001b[38;5;28;01mreturn\u001b[39;00m \u001b[38;5;28mself\u001b[39m\u001b[38;5;241m.\u001b[39m_compiled_call_impl(\u001b[38;5;241m*\u001b[39margs, \u001b[38;5;241m*\u001b[39m\u001b[38;5;241m*\u001b[39mkwargs)  \u001b[38;5;66;03m# type: ignore[misc]\u001b[39;00m\n\u001b[0;32m   1735\u001b[0m \u001b[38;5;28;01melse\u001b[39;00m:\n\u001b[1;32m-> 1736\u001b[0m     \u001b[38;5;28;01mreturn\u001b[39;00m \u001b[38;5;28mself\u001b[39m\u001b[38;5;241m.\u001b[39m_call_impl(\u001b[38;5;241m*\u001b[39margs, \u001b[38;5;241m*\u001b[39m\u001b[38;5;241m*\u001b[39mkwargs)\n",
      "File \u001b[1;32m~\\anaconda3\\Lib\\site-packages\\torch\\nn\\modules\\module.py:1747\u001b[0m, in \u001b[0;36mModule._call_impl\u001b[1;34m(self, *args, **kwargs)\u001b[0m\n\u001b[0;32m   1742\u001b[0m \u001b[38;5;66;03m# If we don't have any hooks, we want to skip the rest of the logic in\u001b[39;00m\n\u001b[0;32m   1743\u001b[0m \u001b[38;5;66;03m# this function, and just call forward.\u001b[39;00m\n\u001b[0;32m   1744\u001b[0m \u001b[38;5;28;01mif\u001b[39;00m \u001b[38;5;129;01mnot\u001b[39;00m (\u001b[38;5;28mself\u001b[39m\u001b[38;5;241m.\u001b[39m_backward_hooks \u001b[38;5;129;01mor\u001b[39;00m \u001b[38;5;28mself\u001b[39m\u001b[38;5;241m.\u001b[39m_backward_pre_hooks \u001b[38;5;129;01mor\u001b[39;00m \u001b[38;5;28mself\u001b[39m\u001b[38;5;241m.\u001b[39m_forward_hooks \u001b[38;5;129;01mor\u001b[39;00m \u001b[38;5;28mself\u001b[39m\u001b[38;5;241m.\u001b[39m_forward_pre_hooks\n\u001b[0;32m   1745\u001b[0m         \u001b[38;5;129;01mor\u001b[39;00m _global_backward_pre_hooks \u001b[38;5;129;01mor\u001b[39;00m _global_backward_hooks\n\u001b[0;32m   1746\u001b[0m         \u001b[38;5;129;01mor\u001b[39;00m _global_forward_hooks \u001b[38;5;129;01mor\u001b[39;00m _global_forward_pre_hooks):\n\u001b[1;32m-> 1747\u001b[0m     \u001b[38;5;28;01mreturn\u001b[39;00m forward_call(\u001b[38;5;241m*\u001b[39margs, \u001b[38;5;241m*\u001b[39m\u001b[38;5;241m*\u001b[39mkwargs)\n\u001b[0;32m   1749\u001b[0m result \u001b[38;5;241m=\u001b[39m \u001b[38;5;28;01mNone\u001b[39;00m\n\u001b[0;32m   1750\u001b[0m called_always_called_hooks \u001b[38;5;241m=\u001b[39m \u001b[38;5;28mset\u001b[39m()\n",
      "Cell \u001b[1;32mIn[14], line 10\u001b[0m, in \u001b[0;36mKoopmanModel.forward\u001b[1;34m(self, data)\u001b[0m\n\u001b[0;32m      8\u001b[0m koopman_space \u001b[38;5;241m=\u001b[39m \u001b[38;5;28mself\u001b[39m\u001b[38;5;241m.\u001b[39mencoder(data)\n\u001b[0;32m      9\u001b[0m next_koopman_space \u001b[38;5;241m=\u001b[39m koopman_space \u001b[38;5;241m@\u001b[39m \u001b[38;5;28mself\u001b[39m\u001b[38;5;241m.\u001b[39mkoopman_matrix\n\u001b[1;32m---> 10\u001b[0m next_state \u001b[38;5;241m=\u001b[39m \u001b[38;5;28mself\u001b[39m\u001b[38;5;241m.\u001b[39mdecoder(next_koopman_space)\n\u001b[0;32m     11\u001b[0m \u001b[38;5;28;01mreturn\u001b[39;00m next_state\n",
      "File \u001b[1;32m~\\anaconda3\\Lib\\site-packages\\torch\\nn\\modules\\module.py:1736\u001b[0m, in \u001b[0;36mModule._wrapped_call_impl\u001b[1;34m(self, *args, **kwargs)\u001b[0m\n\u001b[0;32m   1734\u001b[0m     \u001b[38;5;28;01mreturn\u001b[39;00m \u001b[38;5;28mself\u001b[39m\u001b[38;5;241m.\u001b[39m_compiled_call_impl(\u001b[38;5;241m*\u001b[39margs, \u001b[38;5;241m*\u001b[39m\u001b[38;5;241m*\u001b[39mkwargs)  \u001b[38;5;66;03m# type: ignore[misc]\u001b[39;00m\n\u001b[0;32m   1735\u001b[0m \u001b[38;5;28;01melse\u001b[39;00m:\n\u001b[1;32m-> 1736\u001b[0m     \u001b[38;5;28;01mreturn\u001b[39;00m \u001b[38;5;28mself\u001b[39m\u001b[38;5;241m.\u001b[39m_call_impl(\u001b[38;5;241m*\u001b[39margs, \u001b[38;5;241m*\u001b[39m\u001b[38;5;241m*\u001b[39mkwargs)\n",
      "File \u001b[1;32m~\\anaconda3\\Lib\\site-packages\\torch\\nn\\modules\\module.py:1747\u001b[0m, in \u001b[0;36mModule._call_impl\u001b[1;34m(self, *args, **kwargs)\u001b[0m\n\u001b[0;32m   1742\u001b[0m \u001b[38;5;66;03m# If we don't have any hooks, we want to skip the rest of the logic in\u001b[39;00m\n\u001b[0;32m   1743\u001b[0m \u001b[38;5;66;03m# this function, and just call forward.\u001b[39;00m\n\u001b[0;32m   1744\u001b[0m \u001b[38;5;28;01mif\u001b[39;00m \u001b[38;5;129;01mnot\u001b[39;00m (\u001b[38;5;28mself\u001b[39m\u001b[38;5;241m.\u001b[39m_backward_hooks \u001b[38;5;129;01mor\u001b[39;00m \u001b[38;5;28mself\u001b[39m\u001b[38;5;241m.\u001b[39m_backward_pre_hooks \u001b[38;5;129;01mor\u001b[39;00m \u001b[38;5;28mself\u001b[39m\u001b[38;5;241m.\u001b[39m_forward_hooks \u001b[38;5;129;01mor\u001b[39;00m \u001b[38;5;28mself\u001b[39m\u001b[38;5;241m.\u001b[39m_forward_pre_hooks\n\u001b[0;32m   1745\u001b[0m         \u001b[38;5;129;01mor\u001b[39;00m _global_backward_pre_hooks \u001b[38;5;129;01mor\u001b[39;00m _global_backward_hooks\n\u001b[0;32m   1746\u001b[0m         \u001b[38;5;129;01mor\u001b[39;00m _global_forward_hooks \u001b[38;5;129;01mor\u001b[39;00m _global_forward_pre_hooks):\n\u001b[1;32m-> 1747\u001b[0m     \u001b[38;5;28;01mreturn\u001b[39;00m forward_call(\u001b[38;5;241m*\u001b[39margs, \u001b[38;5;241m*\u001b[39m\u001b[38;5;241m*\u001b[39mkwargs)\n\u001b[0;32m   1749\u001b[0m result \u001b[38;5;241m=\u001b[39m \u001b[38;5;28;01mNone\u001b[39;00m\n\u001b[0;32m   1750\u001b[0m called_always_called_hooks \u001b[38;5;241m=\u001b[39m \u001b[38;5;28mset\u001b[39m()\n",
      "Cell \u001b[1;32mIn[13], line 8\u001b[0m, in \u001b[0;36mSimpleGNN.forward\u001b[1;34m(self, data)\u001b[0m\n\u001b[0;32m      7\u001b[0m \u001b[38;5;28;01mdef\u001b[39;00m \u001b[38;5;21mforward\u001b[39m(\u001b[38;5;28mself\u001b[39m, data):\n\u001b[1;32m----> 8\u001b[0m     x, edge_index \u001b[38;5;241m=\u001b[39m data\u001b[38;5;241m.\u001b[39mx, data\u001b[38;5;241m.\u001b[39medge_index\n\u001b[0;32m      9\u001b[0m     x \u001b[38;5;241m=\u001b[39m \u001b[38;5;28mself\u001b[39m\u001b[38;5;241m.\u001b[39mconv1(x, edge_index)\u001b[38;5;241m.\u001b[39mrelu()\n\u001b[0;32m     10\u001b[0m     x \u001b[38;5;241m=\u001b[39m \u001b[38;5;28mself\u001b[39m\u001b[38;5;241m.\u001b[39mconv2(x, edge_index)\n",
      "\u001b[1;31mAttributeError\u001b[0m: 'Tensor' object has no attribute 'x'"
     ]
    }
   ],
   "source": [
    "dataset = [(pos, val) for pos, val in data]\n",
    "model = KoopmanModel(input_dim=1,koopman_dim = 3).to(device)\n",
    "train_model(model, dataset, epochs=100)"
   ]
  },
  {
   "cell_type": "code",
   "execution_count": null,
   "id": "a383d771-6db5-432b-8798-bc3b7c360612",
   "metadata": {},
   "outputs": [],
   "source": []
  }
 ],
 "metadata": {
  "kernelspec": {
   "display_name": "Python 3 (ipykernel)",
   "language": "python",
   "name": "python3"
  },
  "language_info": {
   "codemirror_mode": {
    "name": "ipython",
    "version": 3
   },
   "file_extension": ".py",
   "mimetype": "text/x-python",
   "name": "python",
   "nbconvert_exporter": "python",
   "pygments_lexer": "ipython3",
   "version": "3.12.4"
  }
 },
 "nbformat": 4,
 "nbformat_minor": 5
}
