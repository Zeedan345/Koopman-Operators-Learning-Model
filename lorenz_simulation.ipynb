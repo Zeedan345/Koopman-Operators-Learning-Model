{
 "cells": [
  {
   "cell_type": "markdown",
   "id": "7f31d8dc-9bc8-465c-a3c2-09dc00823b47",
   "metadata": {},
   "source": [
    "Preparing Data For Training (Rope Data)"
   ]
  },
  {
   "cell_type": "code",
   "execution_count": 2,
   "id": "332f4a57-5c28-4b93-b582-22f690473627",
   "metadata": {},
   "outputs": [],
   "source": [
    "import numpy as np\n",
    "import torch\n",
    "import torch.nn as nn\n",
    "import torch.nn.functional as F\n",
    "from torch.optim import Adam\n",
    "import matplotlib.pyplot as plt"
   ]
  },
  {
   "cell_type": "code",
   "execution_count": 6,
   "id": "91ffa250-4f76-4eb9-84d5-e54bb74ec046",
   "metadata": {},
   "outputs": [],
   "source": [
    "def simulate_lorenz(initial_state, steps=500, dt=0.01, \n",
    "                    sigma=10.0, rho=28.0, beta=8.0/3.0):\n",
    "    def lorenz_system(state):\n",
    "        x, y, z = state\n",
    "        dxdt = sigma * (y - x)\n",
    "        dydt = x * (rho - z) - y\n",
    "        dzdt = x * y - beta * z\n",
    "        return np.array([dxdt, dydt, dzdt])\n",
    "\n",
    "    state = np.array(initial_state)\n",
    "    trajectory = []\n",
    "    for _ in range(steps):\n",
    "        trajectory.append(state.copy())\n",
    "        # Runge-Kutta 4th order integration for better accuracy\n",
    "        k1 = lorenz_system(state)\n",
    "        k2 = lorenz_system(state + 0.5 * dt * k1)\n",
    "        k3 = lorenz_system(state + 0.5 * dt * k2)\n",
    "        k4 = lorenz_system(state + dt * k3)\n",
    "        state += (dt / 6.0) * (k1 + 2*k2 + 2*k3 + k4)\n",
    "    \n",
    "    return np.array(trajectory)"
   ]
  },
  {
   "cell_type": "markdown",
   "id": "cfeac9a8-2008-4ac4-b0fd-f2056e53a959",
   "metadata": {},
   "source": [
    "Building A Graph Neural Network(GNN)"
   ]
  },
  {
   "cell_type": "code",
   "execution_count": 9,
   "id": "a5d00e15-8b21-4e8f-8371-c00ecb9fc634",
   "metadata": {},
   "outputs": [
    {
     "name": "stdout",
     "output_type": "stream",
     "text": [
      "Using device: cuda\n"
     ]
    }
   ],
   "source": [
    "import torch\n",
    "from torch_geometric.data import Data\n",
    "from torch_geometric.nn import GCNConv\n",
    "\n",
    "device = torch.device(\"cuda\" if torch.cuda.is_available() else \"cpu\")\n",
    "print(f\"Using device: {device}\")"
   ]
  },
  {
   "cell_type": "code",
   "execution_count": 10,
   "id": "a6f9bed7-9dc2-4557-b35e-68ab0ad7cea3",
   "metadata": {},
   "outputs": [],
   "source": [
    "def create_sequence_data(trajectory):\n",
    "    \"\"\"Create sequences for training with next-step prediction\"\"\"\n",
    "    X, y = [], []\n",
    "    for i in range(len(trajectory) - 1):\n",
    "        X.append(trajectory[i])\n",
    "        y.append(trajectory[i+1])\n",
    "    return np.array(X), np.array(y)"
   ]
  },
  {
   "cell_type": "code",
   "execution_count": 13,
   "id": "1b41a50d-1336-465a-bd46-117b1e84774a",
   "metadata": {},
   "outputs": [],
   "source": [
    "class ImprovedGNN(nn.Module):\n",
    "    def __init__(self, input_dim, hidden_dim, output_dim):\n",
    "        super(ImprovedGNN, self).__init__()\n",
    "        # Add fully connected layers for comparison\n",
    "        self.fc1 = nn.Linear(input_dim, hidden_dim)\n",
    "        self.fc2 = nn.Linear(hidden_dim, hidden_dim)\n",
    "        self.fc3 = nn.Linear(hidden_dim, output_dim)\n",
    "        \n",
    "        # GNN layers (with fully connected graph)\n",
    "        self.conv1 = GCNConv(input_dim, hidden_dim)\n",
    "        self.conv2 = GCNConv(hidden_dim, output_dim)\n",
    "        \n",
    "        # Layer normalization for stability\n",
    "        self.norm1 = nn.LayerNorm(hidden_dim)\n",
    "        self.norm2 = nn.LayerNorm(output_dim)\n",
    "\n",
    "    def create_full_graph(self, x):\n",
    "        \"\"\"Create a fully connected graph\"\"\"\n",
    "        n = x.size(0)\n",
    "        edge_index = torch.stack([\n",
    "            torch.repeat_interleave(torch.arange(n), n),\n",
    "            torch.tile(torch.arange(n), (n,))\n",
    "        ]).to(x.device)\n",
    "        return edge_index\n",
    "\n",
    "    def forward(self, x):\n",
    "        # Ensure input is a tensor\n",
    "        x = x.float()\n",
    "        \n",
    "        # Create fully connected graph\n",
    "        edge_index = self.create_full_graph(x)\n",
    "        \n",
    "        # GNN path\n",
    "        gnn_x = self.conv1(x, edge_index).relu()\n",
    "        gnn_x = self.norm1(gnn_x)\n",
    "        gnn_x = self.conv2(gnn_x, edge_index)\n",
    "        gnn_x = self.norm2(gnn_x)\n",
    "        \n",
    "        # Fully connected path\n",
    "        fc_x = self.fc1(x).relu()\n",
    "        fc_x = self.fc2(fc_x).relu()\n",
    "        fc_x = self.fc3(fc_x)\n",
    "        \n",
    "        # Combine GNN and FC outputs\n",
    "        return (gnn_x + fc_x) / 2"
   ]
  },
  {
   "cell_type": "code",
   "execution_count": 16,
   "id": "de3a4791-ae14-49f0-91dd-b9f71a84766a",
   "metadata": {},
   "outputs": [],
   "source": [
    "class KoopmanModel(torch.nn.Module):\n",
    "    def __init__(self, input_dim, koopman_dim):\n",
    "        super(KoopmanModel, self).__init__()\n",
    "        self.encoder = SimpleGNN(input_dim, koopman_dim)\n",
    "        self.koopman_matrix = torch.nn.Parameter(torch.eye(koopman_dim).to(device))\n",
    "        self.decoder = SimpleGNN(koopman_dim, input_dim)\n",
    "    def forward(self, data):\n",
    "        #print(\"Type of data in KoopmanModel:\", type(data))\n",
    "        koopman_space = self.encoder(data)\n",
    "        #print(\"koopman_space shape:\", koopman_space.shape)\n",
    "        next_koopman_space = koopman_space @ self.koopman_matrix\n",
    "        new_data = Data(x=next_koopman_space, edge_index=data.edge_index)\n",
    "        next_state = self.decoder(new_data)\n",
    "        #print(\"next_state shape:\", next_state.shape)\n",
    "        return next_state"
   ]
  },
  {
   "cell_type": "code",
   "execution_count": 18,
   "id": "b5d118ca-d61a-4da2-9058-275cf5d6cc1f",
   "metadata": {},
   "outputs": [],
   "source": [
    "from torch.optim import Adam\n",
    "\n",
    "def train_model(model, dataset, epochs=(10)):\n",
    "    optimizer = Adam(model.parameters(), lr=0.01)\n",
    "    loss_fn = torch.nn.MSELoss()\n",
    "\n",
    "    model = model.to(device)\n",
    "    for epoch in range(epochs):\n",
    "        total_loss = 0\n",
    "        correct = 0\n",
    "        total_samples = 0 \n",
    "        for data in dataset:\n",
    "            data = data.to(device)\n",
    "            #print(type(data))\n",
    "\n",
    "            optimizer.zero_grad()\n",
    "\n",
    "            prediction = model(data)\n",
    "\n",
    "            loss = loss_fn(prediction, data.x)\n",
    "            loss.backward()\n",
    "            optimizer.step()\n",
    "            total_loss += loss.item()\n",
    "            threshold = 0.15\n",
    "            correct += (torch.abs(prediction - data.x) < threshold).sum().item()\n",
    "            total_samples += data.x.numel()  \n",
    "        accuracy = (correct / total_samples) * 100 \n",
    "        print(f\"Epoch {epoch + 1}, Loss {total_loss/len(dataset)}, Accuracy{accuracy:.2f}\")"
   ]
  },
  {
   "cell_type": "code",
   "execution_count": 20,
   "id": "bfa903ed-9631-458d-a6a5-f9a9c80f0593",
   "metadata": {},
   "outputs": [
    {
     "ename": "NameError",
     "evalue": "name 'data' is not defined",
     "output_type": "error",
     "traceback": [
      "\u001b[1;31m---------------------------------------------------------------------------\u001b[0m",
      "\u001b[1;31mNameError\u001b[0m                                 Traceback (most recent call last)",
      "Cell \u001b[1;32mIn[20], line 1\u001b[0m\n\u001b[1;32m----> 1\u001b[0m dataset \u001b[38;5;241m=\u001b[39m [create_graph_lorenz(state) \u001b[38;5;28;01mfor\u001b[39;00m state \u001b[38;5;129;01min\u001b[39;00m data]\n\u001b[0;32m      2\u001b[0m \u001b[38;5;28mprint\u001b[39m(\u001b[38;5;28mtype\u001b[39m(dataset[\u001b[38;5;241m0\u001b[39m]))\n\u001b[0;32m      3\u001b[0m \u001b[38;5;28mprint\u001b[39m(dataset[\u001b[38;5;241m0\u001b[39m]\u001b[38;5;241m.\u001b[39mx)\n",
      "\u001b[1;31mNameError\u001b[0m: name 'data' is not defined"
     ]
    }
   ],
   "source": [
    "dataset = [create_graph_lorenz(state) for state in data]\n",
    "print(type(dataset[0]))\n",
    "print(dataset[0].x)"
   ]
  },
  {
   "cell_type": "code",
   "execution_count": 22,
   "id": "a383d771-6db5-432b-8798-bc3b7c360612",
   "metadata": {},
   "outputs": [
    {
     "ename": "NameError",
     "evalue": "name 'SimpleGNN' is not defined",
     "output_type": "error",
     "traceback": [
      "\u001b[1;31m---------------------------------------------------------------------------\u001b[0m",
      "\u001b[1;31mNameError\u001b[0m                                 Traceback (most recent call last)",
      "Cell \u001b[1;32mIn[22], line 1\u001b[0m\n\u001b[1;32m----> 1\u001b[0m model \u001b[38;5;241m=\u001b[39m KoopmanModel(input_dim\u001b[38;5;241m=\u001b[39m\u001b[38;5;241m3\u001b[39m, koopman_dim\u001b[38;5;241m=\u001b[39m\u001b[38;5;241m4\u001b[39m)\u001b[38;5;241m.\u001b[39mto(device)\n",
      "Cell \u001b[1;32mIn[16], line 4\u001b[0m, in \u001b[0;36mKoopmanModel.__init__\u001b[1;34m(self, input_dim, koopman_dim)\u001b[0m\n\u001b[0;32m      2\u001b[0m \u001b[38;5;28;01mdef\u001b[39;00m \u001b[38;5;21m__init__\u001b[39m(\u001b[38;5;28mself\u001b[39m, input_dim, koopman_dim):\n\u001b[0;32m      3\u001b[0m     \u001b[38;5;28msuper\u001b[39m(KoopmanModel, \u001b[38;5;28mself\u001b[39m)\u001b[38;5;241m.\u001b[39m\u001b[38;5;21m__init__\u001b[39m()\n\u001b[1;32m----> 4\u001b[0m     \u001b[38;5;28mself\u001b[39m\u001b[38;5;241m.\u001b[39mencoder \u001b[38;5;241m=\u001b[39m SimpleGNN(input_dim, koopman_dim)\n\u001b[0;32m      5\u001b[0m     \u001b[38;5;28mself\u001b[39m\u001b[38;5;241m.\u001b[39mkoopman_matrix \u001b[38;5;241m=\u001b[39m torch\u001b[38;5;241m.\u001b[39mnn\u001b[38;5;241m.\u001b[39mParameter(torch\u001b[38;5;241m.\u001b[39meye(koopman_dim)\u001b[38;5;241m.\u001b[39mto(device))\n\u001b[0;32m      6\u001b[0m     \u001b[38;5;28mself\u001b[39m\u001b[38;5;241m.\u001b[39mdecoder \u001b[38;5;241m=\u001b[39m SimpleGNN(koopman_dim, input_dim)\n",
      "\u001b[1;31mNameError\u001b[0m: name 'SimpleGNN' is not defined"
     ]
    }
   ],
   "source": [
    "model = KoopmanModel(input_dim=3, koopman_dim=4).to(device)"
   ]
  },
  {
   "cell_type": "code",
   "execution_count": 24,
   "id": "f41c5d3c-e041-4782-8ec9-bf5493d0deea",
   "metadata": {},
   "outputs": [
    {
     "ename": "NameError",
     "evalue": "name 'model' is not defined",
     "output_type": "error",
     "traceback": [
      "\u001b[1;31m---------------------------------------------------------------------------\u001b[0m",
      "\u001b[1;31mNameError\u001b[0m                                 Traceback (most recent call last)",
      "Cell \u001b[1;32mIn[24], line 1\u001b[0m\n\u001b[1;32m----> 1\u001b[0m train_model(model, dataset, epochs\u001b[38;5;241m=\u001b[39m\u001b[38;5;241m10\u001b[39m)\n",
      "\u001b[1;31mNameError\u001b[0m: name 'model' is not defined"
     ]
    }
   ],
   "source": [
    "train_model(model, dataset, epochs=10)"
   ]
  },
  {
   "cell_type": "code",
   "execution_count": null,
   "id": "6c40b05a-956e-461b-b481-75b61b3430e6",
   "metadata": {},
   "outputs": [],
   "source": [
    "import os"
   ]
  },
  {
   "cell_type": "code",
   "execution_count": 28,
   "id": "4185a89c-8f3a-455d-ac69-bd50d3e49ed4",
   "metadata": {},
   "outputs": [],
   "source": [
    "save_folder = \"spring-koopman-models\"\n",
    "os.makedirs(save_folder, exist_ok = True)"
   ]
  },
  {
   "cell_type": "code",
   "execution_count": 30,
   "id": "052d1031-b6dd-4392-b290-3cba8b9e788a",
   "metadata": {},
   "outputs": [
    {
     "name": "stdout",
     "output_type": "stream",
     "text": [
      "Model saved to spring-koopman-models\\spring-koopman-model-2.0.pth\n"
     ]
    }
   ],
   "source": [
    "save_path = os.path.join(save_folder, \"spring-koopman-model-2.0.pth\")\n",
    "torch.save(model.state_dict(), save_path)\n",
    "\n",
    "print(f\"Model saved to {save_path}\")"
   ]
  },
  {
   "cell_type": "code",
   "execution_count": 34,
   "id": "713977b4-9253-4d97-a58d-058aae33d1fa",
   "metadata": {},
   "outputs": [
    {
     "data": {
      "text/plain": [
       "KoopmanModel(\n",
       "  (encoder): SimpleGNN(\n",
       "    (conv1): GCNConv(2, 3)\n",
       "    (conv2): GCNConv(3, 3)\n",
       "  )\n",
       "  (decoder): SimpleGNN(\n",
       "    (conv1): GCNConv(3, 2)\n",
       "    (conv2): GCNConv(2, 2)\n",
       "  )\n",
       ")"
      ]
     },
     "execution_count": 34,
     "metadata": {},
     "output_type": "execute_result"
    }
   ],
   "source": [
    "model = KoopmanModel(input_dim=2, koopman_dim=3).to(device)\n",
    "model.load_state_dict(torch.load(save_path, weights_only=True))\n",
    "model.eval()"
   ]
  },
  {
   "cell_type": "code",
   "execution_count": null,
   "id": "b275d39e-8676-4c05-8fe5-2cdddef67719",
   "metadata": {},
   "outputs": [],
   "source": []
  },
  {
   "cell_type": "code",
   "execution_count": null,
   "id": "2f3b4887-32da-4731-a03e-af72ceb292a4",
   "metadata": {},
   "outputs": [],
   "source": []
  }
 ],
 "metadata": {
  "kernelspec": {
   "display_name": "Python 3 (ipykernel)",
   "language": "python",
   "name": "python3"
  },
  "language_info": {
   "codemirror_mode": {
    "name": "ipython",
    "version": 3
   },
   "file_extension": ".py",
   "mimetype": "text/x-python",
   "name": "python",
   "nbconvert_exporter": "python",
   "pygments_lexer": "ipython3",
   "version": "3.12.4"
  }
 },
 "nbformat": 4,
 "nbformat_minor": 5
}
