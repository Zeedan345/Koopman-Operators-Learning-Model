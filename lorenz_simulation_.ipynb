{
 "cells": [
  {
   "cell_type": "code",
   "execution_count": 227,
   "id": "9dfecc71-1844-4954-937a-c594b8ace5d5",
   "metadata": {},
   "outputs": [
    {
     "name": "stdout",
     "output_type": "stream",
     "text": [
      "Using device: cuda\n"
     ]
    }
   ],
   "source": [
    "import numpy as np\n",
    "import torch\n",
    "import torch.nn as nn\n",
    "import torch.nn.functional as F\n",
    "from torch.optim import Adam\n",
    "from torch_geometric.data import Data\n",
    "from torch_geometric.nn import GCNConv\n",
    "from torch_geometric.loader import DataLoader\n",
    "import matplotlib.pyplot as plt\n",
    "\n",
    "device = torch.device(\"cuda\" if torch.cuda.is_available() else \"cpu\")\n",
    "#device = torch.device(\"cpu\")\n",
    "torch.cuda.empty_cache()\n",
    "print(f\"Using device: {device}\")"
   ]
  },
  {
   "cell_type": "code",
   "execution_count": 229,
   "id": "83e58358-35f2-4b9d-955d-54c6e7081717",
   "metadata": {},
   "outputs": [],
   "source": [
    "def simulate_lorenz(initial_state, steps = 500, dt= 0.01, sigma = 10.0, rho = 28.0, beta = 8.0/3.0):\n",
    "    def lorenz_system(state):\n",
    "        x, y, z = state\n",
    "        dxdt = sigma * (y - x)\n",
    "        dydt = x * (rho - z) - y\n",
    "        dzdt = x * y - beta * z\n",
    "        return np.array([dxdt, dydt, dzdt])\n",
    "    state = np.array(initial_state)\n",
    "    trajectory = []\n",
    "    for _ in range(steps):\n",
    "        trajectory.append(state.copy())\n",
    "        k1 = lorenz_system(state)\n",
    "        k2 = lorenz_system(state + 0.5 * dt * k1)\n",
    "        k3 = lorenz_system(state + 0.5 * dt * k2)\n",
    "        k4 = lorenz_system(state + dt * k3)\n",
    "        state += (dt / 6.0) * (k1 + 2*k2 + 2*k3 + k4)\n",
    "    return np.array(trajectory)\n",
    "        "
   ]
  },
  {
   "cell_type": "code",
   "execution_count": 231,
   "id": "3cb8264d-cece-419c-8303-29b614698d5e",
   "metadata": {},
   "outputs": [],
   "source": [
    "def create_graph_lorenz(trajectory):\n",
    "    edge_index = []\n",
    "    for i in range(len(trajectory)-1):\n",
    "        edge_index.append([i, i+1])\n",
    "    edge_index = torch.tensor(edge_index, dtype = torch.long).t().contiguous()\n",
    "    x = torch.tensor(trajectory, dtype = torch.float)\n",
    "\n",
    "    data = Data(x=x, edge_index = edge_index)\n",
    "    return data"
   ]
  },
  {
   "cell_type": "code",
   "execution_count": 233,
   "id": "1100bb35-c769-437a-9f98-75ebac0923e7",
   "metadata": {},
   "outputs": [],
   "source": [
    "class GNN(nn.Module):\n",
    "    def __init__(self, input_dim, hidden_dim, output_dim):\n",
    "        super(GNN, self).__init__()\n",
    "\n",
    "        self.fc1 = nn.Linear(input_dim, hidden_dim)\n",
    "        self.fc2 = nn.Linear(hidden_dim, hidden_dim)\n",
    "        self.fc3 = nn.Linear(hidden_dim, output_dim)\n",
    "\n",
    "        self.conv1 = GCNConv(input_dim, hidden_dim)\n",
    "        self.conv2 = GCNConv(hidden_dim, output_dim)\n",
    "\n",
    "        self.norm1 = nn.LayerNorm(hidden_dim)\n",
    "        self.norm2 = nn.LayerNorm(output_dim)\n",
    "\n",
    "    def create_full_graph(self, x):\n",
    "        n = x.size(0)\n",
    "        edge_index = torch.stack([\n",
    "            torch.repeat_interleave(torch.arange(n), n),\n",
    "            torch.tile(torch.arange(n), (n,))\n",
    "        ]).to(x.device)\n",
    "        return edge_index\n",
    "    def forward(self, data):\n",
    "        x, edge_index = data.x, data.edge_index\n",
    "        x = x.float()\n",
    "        edge_index = self.create_full_graph(x)\n",
    "        gnn_x = self.conv1(x, edge_index).relu()\n",
    "        gnn_x = self.norm1(gnn_x)\n",
    "        gnn_x = self.conv2(gnn_x, edge_index)\n",
    "        gnn_x = self.norm2(gnn_x)\n",
    "\n",
    "        fc_x = self.fc1(x).relu()\n",
    "        fc_x = self.fc3(fc_x).relu()\n",
    "        fc_x = self.fc3(fc_x)\n",
    "\n",
    "        return (gnn_x+ fc_x)/2"
   ]
  },
  {
   "cell_type": "code",
   "execution_count": 235,
   "id": "b11eb441-3291-47fc-a4e7-65efaf8d9fd0",
   "metadata": {},
   "outputs": [],
   "source": [
    "class KoopmanModel(torch.nn.Module):\n",
    "    def __init__(self, input_dim, koopman_dim):\n",
    "        super(KoopmanModel, self).__init__()\n",
    "        self.encoder = GNN(input_dim, koopman_dim, koopman_dim)\n",
    "        self.koopman_matrix = torch.nn.Parameter(torch.eye(koopman_dim))\n",
    "        self.decoder = GNN(koopman_dim, koopman_dim, input_dim)\n",
    "\n",
    "    def forward(self, data):\n",
    "        koopman_space = self.encoder(data)\n",
    "        next_koopman_space = koopman_space @ self.koopman_matrix\n",
    "        new_data = Data(x=next_koopman_space, edge_index = data.edge_index)\n",
    "        new_state = self.decoder(new_data)\n",
    "        return new_state"
   ]
  },
  {
   "cell_type": "code",
   "execution_count": 247,
   "id": "962089ed-41fe-4669-aace-d8c38abdcb2b",
   "metadata": {},
   "outputs": [],
   "source": [
    "def auto_encoding_loss(decoded, original_states):\n",
    "    return F.mse_loss(decoded, original_states)\n",
    "\n",
    "def prediction_loss(model, koopman_space, data):\n",
    "    T = data.x.size(0)\n",
    "    all_predictions = []\n",
    "    current_state = koopman_space[0].unsqueeze(0)\n",
    "\n",
    "    for t in range(T):\n",
    "        decoded_state = model.decoder(Data(x=current_state, edge_index=data.edge_index))\n",
    "        all_predictions.append(decoded_state)\n",
    "        if t < T - 1:\n",
    "            current_state = (current_state @ model.koopman_matrix).detach().clone()\n",
    "    all_predictions = torch.cat(all_predictions, dim=0)\n",
    "    return F.mse_loss(all_predictions, data.x)\n",
    "\n",
    "\n",
    "\n",
    "def metric_loss(koopman_space, original_space):\n",
    "    distances_koopman = torch.cdist(koopman_space, koopman_space, p=2)\n",
    "    distances_original = torch.cdist(original_space, original_space, p=2)\n",
    "    return F.l1_loss(distances_koopman, distances_original)\n",
    "\n",
    "\n",
    "def total_loss(model, data, lambda1=1.0, lambda2=0.3):\n",
    "    koopman_space = model.encoder(data)\n",
    "    decoded = model.decoder(Data(x=koopman_space, edge_index=data.edge_index))\n",
    "    \n",
    "    ae_loss = auto_encoding_loss(decoded, data.x)\n",
    "    pred_loss = prediction_loss(model, koopman_space, data)\n",
    "    m_loss = metric_loss(koopman_space, data.x)\n",
    "    #print(f\"AE Loss: {ae_loss}, Predicted Loss: Total Loss {m_loss}\")\n",
    "\n",
    "    return ae_loss  + lambda1 * pred_loss + lambda2 * m_loss "
   ]
  },
  {
   "cell_type": "code",
   "execution_count": 239,
   "id": "bb9126e3-b1c9-4731-8f41-274aae01e191",
   "metadata": {},
   "outputs": [],
   "source": [
    "def train_model(model, dataset, epochs = (10),lambda1=1.0, lambda2=0.3, initial_lr = 0.007):\n",
    "    optimizer = Adam(model.parameters(), lr = initial_lr)\n",
    "    # scheduler = torch.optim.lr_scheduler.ReduceLROnPlateau(\n",
    "    #     optimizer,\n",
    "    #     mode='min',\n",
    "    #     factor=0.5,\n",
    "    #     patience=3,\n",
    "    #     verbose = True\n",
    "    # )\n",
    "    scheduler = torch.optim.lr_scheduler.CosineAnnealingWarmRestarts(\n",
    "        optimizer,\n",
    "        T_0=5,\n",
    "        T_mult=2,\n",
    "        eta_min=1e-5\n",
    "    )\n",
    "    model = model.to(device)\n",
    "    train_losses = []\n",
    "    learning_rates = []\n",
    "    best_loss = float('inf')\n",
    "    patience_counter = 0\n",
    "    for epoch in range(epochs):\n",
    "        epoch_loss = 0\n",
    "        for data in dataset:\n",
    "            data = data.to(device)\n",
    "            optimizer.zero_grad()\n",
    "            #prediction = model(data)\n",
    "            loss = total_loss(model, data,  lambda1=lambda1, lambda2=lambda2)\n",
    "            loss.backward()\n",
    "            optimizer.step()\n",
    "            epoch_loss += loss.item()\n",
    "\n",
    "        avg_loss = epoch_loss / len(dataset)\n",
    "        #scheduler.step(avg_loss) For ReduceLRPlateau\n",
    "        train_losses.append(avg_loss)\n",
    "        current_lr = optimizer.param_groups[0]['lr']\n",
    "        learning_rates.append(current_lr)\n",
    "        schedular.step()\n",
    "        if avg_loss < best_loss:\n",
    "            best_loss = avg_loss\n",
    "        print(f\"Epoch {epoch + 1}, Loss {avg_loss:.4f}, LR: {current_lr:.6f}\")\n",
    "\n",
    "        #For Reduce LR\n",
    "        # if avg_loss < best_loss:\n",
    "        #     best_loss = avg_loss\n",
    "        #     patience_counter = 0\n",
    "        # else:\n",
    "        #     patience_counter += 1\n",
    "        #     if patience_counter >= 10: \n",
    "        #         print(\"Early stopping triggered\")\n",
    "        #         break\n",
    "    fig, (ax1, ax2) = plt.subplots(2, 1, figsize=(10, 8))\n",
    "    \n",
    "    ax1.plot(range(epochs), train_losses)\n",
    "    ax1.set_xlabel(\"Epochs\")\n",
    "    ax1.set_ylabel(\"Loss\")\n",
    "    ax1.set_title(\"Training Loss Over Time\")\n",
    "    \n",
    "    ax2.plot(range(epochs), learning_rates)\n",
    "    ax2.set_xlabel(\"Epochs\")\n",
    "    ax2.set_ylabel(\"Learning Rate\")\n",
    "    ax2.set_title(\"Learning Rate Schedule\")\n",
    "    plt.tight_layout()\n",
    "    plt.show()"
   ]
  },
  {
   "cell_type": "code",
   "execution_count": 241,
   "id": "a0496e37-4563-4763-a115-49d713a4100c",
   "metadata": {},
   "outputs": [],
   "source": [
    "def normalize_lorenz_trajectory(trajectory):\n",
    "    scale_factors = np.array([20.0, 30.0, 50.0])\n",
    "    normalized_trajectory = trajectory / scale_factors\n",
    "    return normalized_trajectory\n",
    "\n",
    "\n",
    "initial_state = [1.0, 0.0, 0.0]\n",
    "lorenz_trajectory = simulate_lorenz(initial_state)\n",
    "normalized_trajectory = normalize_lorenz_trajectory(lorenz_trajectory)\n",
    "dataset = [\n",
    "    create_graph_lorenz(\n",
    "        normalize_lorenz_trajectory(\n",
    "            simulate_lorenz([\n",
    "                np.random.normal(1.0, 0.1), \n",
    "                np.random.normal(0.0, 0.1), \n",
    "                np.random.normal(0.0, 0.1)\n",
    "            ])\n",
    "        )\n",
    "    ) \n",
    "    for _ in range(100)\n",
    "]"
   ]
  },
  {
   "cell_type": "code",
   "execution_count": 242,
   "id": "6dd69b7b-3319-4a5d-9d51-e7a50909fdbf",
   "metadata": {},
   "outputs": [],
   "source": [
    "model = KoopmanModel(input_dim = 3, koopman_dim = 3).to(device)"
   ]
  },
  {
   "cell_type": "code",
   "execution_count": 245,
   "id": "2ae94b78-320b-41be-aa94-474914a46942",
   "metadata": {},
   "outputs": [
    {
     "name": "stdout",
     "output_type": "stream",
     "text": [
      "Epoch 1, Loss 0.5957, LR: 0.007000\n",
      "Epoch 2, Loss 0.1068, LR: 0.007000\n",
      "Epoch 3, Loss 0.1010, LR: 0.007000\n",
      "Epoch 4, Loss 0.1015, LR: 0.007000\n",
      "Epoch 5, Loss 0.1020, LR: 0.007000\n",
      "Epoch 6, Loss 0.1066, LR: 0.007000\n",
      "Epoch 7, Loss 0.1060, LR: 0.003500\n",
      "Epoch 8, Loss 0.1082, LR: 0.003500\n",
      "Epoch 9, Loss 0.1078, LR: 0.003500\n",
      "Epoch 10, Loss 0.1078, LR: 0.003500\n"
     ]
    },
    {
     "data": {
      "image/png": "[encoded data removed]",
      "text/plain": [
       "<Figure size 640x480 with 1 Axes>"
      ]
     },
     "metadata": {},
     "output_type": "display_data"
    }
   ],
   "source": [
    "train_model(model, dataset, epochs = 20)"
   ]
  },
  {
   "cell_type": "code",
   "execution_count": null,
   "id": "b0b16baa-71b8-4073-ae3f-6c571b6b9f2f",
   "metadata": {},
   "outputs": [],
   "source": []
  },
  {
   "cell_type": "code",
   "execution_count": null,
   "id": "646d434c-305e-4575-b1cf-c168df967cef",
   "metadata": {},
   "outputs": [],
   "source": []
  }
 ],
 "metadata": {
  "kernelspec": {
   "display_name": "Python 3 (ipykernel)",
   "language": "python",
   "name": "python3"
  },
  "language_info": {
   "codemirror_mode": {
    "name": "ipython",
    "version": 3
   },
   "file_extension": ".py",
   "mimetype": "text/x-python",
   "name": "python",
   "nbconvert_exporter": "python",
   "pygments_lexer": "ipython3",
   "version": "3.12.4"
  }
 },
 "nbformat": 4,
 "nbformat_minor": 5
}
