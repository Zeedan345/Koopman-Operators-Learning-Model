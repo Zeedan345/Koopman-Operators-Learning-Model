{
 "cells": [
  {
   "cell_type": "markdown",
   "id": "7f31d8dc-9bc8-465c-a3c2-09dc00823b47",
   "metadata": {},
   "source": [
    "Preparing Data For Training (Rope Data)"
   ]
  },
  {
   "cell_type": "code",
   "execution_count": 1,
   "id": "332f4a57-5c28-4b93-b582-22f690473627",
   "metadata": {},
   "outputs": [],
   "source": [
    "import numpy as np"
   ]
  },
  {
   "cell_type": "code",
   "execution_count": 3,
   "id": "75548ac5-427d-43d0-a745-398b9daeca12",
   "metadata": {},
   "outputs": [],
   "source": [
    "#Parmeters\n",
    "num_masses = 4\n",
    "dt = 0.01 \n",
    "k = 1.0\n",
    "mass = 1.0\n",
    "\n",
    "num_features = 2  # Position and velocity\n",
    "koopman_dim = 3  # Size of the Koopman embedding"
   ]
  },
  {
   "cell_type": "code",
   "execution_count": 4,
   "id": "e69d5d0a-6f51-4121-b2b2-3590241e72a6",
   "metadata": {},
   "outputs": [],
   "source": [
    "positions = np.random.rand(num_masses, 1)\n",
    "velocities = np.zeros((num_masses, 1))"
   ]
  },
  {
   "cell_type": "code",
   "execution_count": 7,
   "id": "16b6435c-68bd-43d2-b3cf-985c1fae831e",
   "metadata": {},
   "outputs": [],
   "source": [
    "#Hookes Law Spring\n",
    "#Simulate System And Store Data\n",
    "def simulate(positions, velocities, steps=100):\n",
    "    trajectory = []\n",
    "    for _ in range(steps):\n",
    "        forces = np.zeros_like(positions)\n",
    "        for i in range(1, num_masses -1 ):\n",
    "            #Hooke's Law\n",
    "            left_force = -k*(positions[i] - positions[i - 1])\n",
    "            right_force = -k * (positions[i] - positions[i+1])\n",
    "            forces[i] = (left_force + right_force)\n",
    "        accelerations = forces / mass\n",
    "        velocities += accelerations * dt\n",
    "        positions += velocities * dt\n",
    "        trajectory.append((positions.copy(), velocities.copy()))\n",
    "    return trajectory\n",
    "\n",
    "data = simulate(positions, velocities)"
   ]
  },
  {
   "cell_type": "markdown",
   "id": "cfeac9a8-2008-4ac4-b0fd-f2056e53a959",
   "metadata": {},
   "source": [
    "Building A Graph Neural Network(GNN)"
   ]
  },
  {
   "cell_type": "code",
   "execution_count": 10,
   "id": "a5d00e15-8b21-4e8f-8371-c00ecb9fc634",
   "metadata": {},
   "outputs": [
    {
     "name": "stdout",
     "output_type": "stream",
     "text": [
      "Using device: cuda\n"
     ]
    }
   ],
   "source": [
    "import torch\n",
    "from torch_geometric.data import Data\n",
    "from torch_geometric.nn import GCNConv\n",
    "\n",
    "device = torch.device(\"cuda\" if torch.cuda.is_available() else \"cpu\")\n",
    "print(f\"Using device: {device}\")"
   ]
  },
  {
   "cell_type": "code",
   "execution_count": 11,
   "id": "a6f9bed7-9dc2-4557-b35e-68ab0ad7cea3",
   "metadata": {},
   "outputs": [],
   "source": [
    "#Create a Graph Representationz\n",
    "def create_graph(pos, val, num_masses):   \n",
    "    pos = torch.tensor(pos, dtype = torch.float).squeeze()\n",
    "    val = torch.tensor(val, dtype = torch.float).squeeze()\n",
    "    # if(pos.size(0) != val.size(0)):\n",
    "    #     raise ValueError(f\"Incompatible size pos={pos.size(0)}, val= {val.size(0)}\")\n",
    "    nodes = torch.stack([pos, val], dim=1)\n",
    "    edges = torch.tensor([[i, i+1] for i in range(num_masses - 1)], dtype = torch.long).T\n",
    "    return Data(x=nodes, edge_index =edges)"
   ]
  },
  {
   "cell_type": "code",
   "execution_count": 12,
   "id": "1b41a50d-1336-465a-bd46-117b1e84774a",
   "metadata": {},
   "outputs": [],
   "source": [
    "#GNN Model\n",
    "class SimpleGNN(torch.nn.Module):\n",
    "    def __init__(self, input_dim, hidden_dim):\n",
    "        super(SimpleGNN, self).__init__()\n",
    "        self.conv1 = GCNConv(input_dim, hidden_dim)\n",
    "        self.conv2 = GCNConv(hidden_dim, hidden_dim)\n",
    "    def forward(self, data):\n",
    "        #print(\"Type of data in SimpleGNN:\", type(data))\n",
    "        x, edge_index = data.x, data.edge_index\n",
    "        #print(\"x:\", x.shape, \"edge_index:\", edge_index.shape)\n",
    "        x = self.conv1(x, edge_index).relu()\n",
    "        x = self.conv2(x, edge_index)\n",
    "        return x"
   ]
  },
  {
   "cell_type": "code",
   "execution_count": 13,
   "id": "de3a4791-ae14-49f0-91dd-b9f71a84766a",
   "metadata": {},
   "outputs": [],
   "source": [
    "class KoopmanModel(torch.nn.Module):\n",
    "    def __init__(self, input_dim, koopman_dim):\n",
    "        super(KoopmanModel, self).__init__()\n",
    "        self.encoder = SimpleGNN(input_dim, koopman_dim)\n",
    "        self.koopman_matrix = torch.nn.Parameter(torch.eye(koopman_dim).to(device))\n",
    "        self.decoder = SimpleGNN(koopman_dim, input_dim)\n",
    "    def forward(self, data):\n",
    "        #print(\"Type of data in KoopmanModel:\", type(data))\n",
    "        koopman_space = self.encoder(data)\n",
    "        #print(\"koopman_space shape:\", koopman_space.shape)\n",
    "        next_koopman_space = koopman_space @ self.koopman_matrix\n",
    "        new_data = Data(x=next_koopman_space, edge_index=data.edge_index)\n",
    "        next_state = self.decoder(new_data)\n",
    "        #print(\"next_state shape:\", next_state.shape)\n",
    "        return next_state"
   ]
  },
  {
   "cell_type": "code",
   "execution_count": 79,
   "id": "b5d118ca-d61a-4da2-9058-275cf5d6cc1f",
   "metadata": {},
   "outputs": [],
   "source": [
    "from torch.optim import Adam\n",
    "\n",
    "def train_model(model, dataset, epochs=(10)):\n",
    "    optimizer = Adam(model.parameters(), lr=0.01)\n",
    "    loss_fn = torch.nn.MSELoss()\n",
    "\n",
    "    model = model.to(device)\n",
    "    for epoch in range(epochs):\n",
    "        total_loss = 0\n",
    "        correct = 0\n",
    "        total_samples = 0 \n",
    "        for data in dataset:\n",
    "            data = data.to(device)\n",
    "            #print(type(data))\n",
    "\n",
    "            optimizer.zero_grad()\n",
    "\n",
    "            prediction = model(data)\n",
    "\n",
    "            loss = loss_fn(prediction, data.x)\n",
    "            loss.backward()\n",
    "            optimizer.step()\n",
    "            total_loss += loss.item()\n",
    "            threshold = 0.15\n",
    "            correct += (torch.abs(prediction - data.x) < threshold).sum().item()\n",
    "            total_samples += data.x.numel()  \n",
    "        accuracy = (correct / total_samples) * 100 \n",
    "        print(f\"Epoch {epoch + 1}, Loss {total_loss/len(dataset)}, Accuracy{accuracy:.2f}\")"
   ]
  },
  {
   "cell_type": "code",
   "execution_count": 81,
   "id": "bfa903ed-9631-458d-a6a5-f9a9c80f0593",
   "metadata": {},
   "outputs": [
    {
     "name": "stdout",
     "output_type": "stream",
     "text": [
      "<class 'torch_geometric.data.data.Data'>\n",
      "tensor([[ 3.6543e-01,  0.0000e+00],\n",
      "        [ 4.3612e-01,  8.4566e-05],\n",
      "        [ 5.1525e-01, -1.7838e-04],\n",
      "        [ 5.7656e-01,  0.0000e+00]])\n"
     ]
    }
   ],
   "source": [
    "dataset = [create_graph(pos, val, num_masses) for pos, val in data]\n",
    "print(type(dataset[0]))\n",
    "print(dataset[0].x)"
   ]
  },
  {
   "cell_type": "code",
   "execution_count": 83,
   "id": "a383d771-6db5-432b-8798-bc3b7c360612",
   "metadata": {},
   "outputs": [],
   "source": [
    "model = KoopmanModel(input_dim=2, koopman_dim=3).to(device)"
   ]
  },
  {
   "cell_type": "code",
   "execution_count": 85,
   "id": "f41c5d3c-e041-4782-8ec9-bf5493d0deea",
   "metadata": {},
   "outputs": [
    {
     "name": "stdout",
     "output_type": "stream",
     "text": [
      "Epoch 1, Loss 0.022822626961860805, Accuracy80.75\n",
      "Epoch 2, Loss 0.003152216342277825, Accuracy100.00\n",
      "Epoch 3, Loss 0.003151470592711121, Accuracy100.00\n",
      "Epoch 4, Loss 0.0031514737359248104, Accuracy100.00\n",
      "Epoch 5, Loss 0.0031514745531603695, Accuracy100.00\n",
      "Epoch 6, Loss 0.0031514759548008442, Accuracy100.00\n",
      "Epoch 7, Loss 0.0031514793983660637, Accuracy100.00\n",
      "Epoch 8, Loss 0.003151483065448701, Accuracy100.00\n",
      "Epoch 9, Loss 0.0031514828000217677, Accuracy100.00\n",
      "Epoch 10, Loss 0.0031514869607053696, Accuracy100.00\n"
     ]
    }
   ],
   "source": [
    "train_model(model, dataset, epochs=10)"
   ]
  },
  {
   "cell_type": "code",
   "execution_count": null,
   "id": "6c40b05a-956e-461b-b481-75b61b3430e6",
   "metadata": {},
   "outputs": [],
   "source": [
    "import os"
   ]
  },
  {
   "cell_type": "code",
   "execution_count": 28,
   "id": "4185a89c-8f3a-455d-ac69-bd50d3e49ed4",
   "metadata": {},
   "outputs": [],
   "source": [
    "save_folder = \"spring-koopman-models\"\n",
    "os.makedirs(save_folder, exist_ok = True)"
   ]
  },
  {
   "cell_type": "code",
   "execution_count": 30,
   "id": "052d1031-b6dd-4392-b290-3cba8b9e788a",
   "metadata": {},
   "outputs": [
    {
     "name": "stdout",
     "output_type": "stream",
     "text": [
      "Model saved to spring-koopman-models\\spring-koopman-model-2.0.pth\n"
     ]
    }
   ],
   "source": [
    "save_path = os.path.join(save_folder, \"spring-koopman-model-2.0.pth\")\n",
    "torch.save(model.state_dict(), save_path)\n",
    "\n",
    "print(f\"Model saved to {save_path}\")"
   ]
  },
  {
   "cell_type": "code",
   "execution_count": 34,
   "id": "713977b4-9253-4d97-a58d-058aae33d1fa",
   "metadata": {},
   "outputs": [
    {
     "data": {
      "text/plain": [
       "KoopmanModel(\n",
       "  (encoder): SimpleGNN(\n",
       "    (conv1): GCNConv(2, 3)\n",
       "    (conv2): GCNConv(3, 3)\n",
       "  )\n",
       "  (decoder): SimpleGNN(\n",
       "    (conv1): GCNConv(3, 2)\n",
       "    (conv2): GCNConv(2, 2)\n",
       "  )\n",
       ")"
      ]
     },
     "execution_count": 34,
     "metadata": {},
     "output_type": "execute_result"
    }
   ],
   "source": [
    "model = KoopmanModel(input_dim=2, koopman_dim=3).to(device)\n",
    "model.load_state_dict(torch.load(save_path, weights_only=True))\n",
    "model.eval()"
   ]
  },
  {
   "cell_type": "code",
   "execution_count": null,
   "id": "b275d39e-8676-4c05-8fe5-2cdddef67719",
   "metadata": {},
   "outputs": [],
   "source": []
  },
  {
   "cell_type": "code",
   "execution_count": null,
   "id": "2f3b4887-32da-4731-a03e-af72ceb292a4",
   "metadata": {},
   "outputs": [],
   "source": []
  }
 ],
 "metadata": {
  "kernelspec": {
   "display_name": "Python 3 (ipykernel)",
   "language": "python",
   "name": "python3"
  },
  "language_info": {
   "codemirror_mode": {
    "name": "ipython",
    "version": 3
   },
   "file_extension": ".py",
   "mimetype": "text/x-python",
   "name": "python",
   "nbconvert_exporter": "python",
   "pygments_lexer": "ipython3",
   "version": "3.12.4"
  }
 },
 "nbformat": 4,
 "nbformat_minor": 5
}
