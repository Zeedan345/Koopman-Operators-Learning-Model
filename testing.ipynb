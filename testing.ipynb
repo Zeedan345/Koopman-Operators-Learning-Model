{
 "cells": [
  {
   "cell_type": "code",
   "execution_count": 71,
   "id": "6da65c92-fc93-4674-b28a-c48f26e2c026",
   "metadata": {},
   "outputs": [],
   "source": [
    "import numpy as np\n",
    "import torch\n",
    "import os\n",
    "import matplotlib.pyplot as plt\n",
    "import matplotlib.animation as animation\n",
    "from train import KoopmanModel, simulate, create_graph"
   ]
  },
  {
   "cell_type": "markdown",
   "id": "cdb55290-4870-4373-a48c-ef9faa6724ea",
   "metadata": {},
   "source": [
    "Loading the Model"
   ]
  },
  {
   "cell_type": "code",
   "execution_count": 74,
   "id": "9f2d5a73-5682-4670-be6e-033dee39ed47",
   "metadata": {},
   "outputs": [
    {
     "name": "stdout",
     "output_type": "stream",
     "text": [
      "Using device: cuda\n"
     ]
    }
   ],
   "source": [
    "device = torch.device(\"cuda\" if torch.cuda.is_available() else \"cpu\")\n",
    "print(f\"Using device: {device}\")"
   ]
  },
  {
   "cell_type": "code",
   "execution_count": 76,
   "id": "a24113ba-a300-4dda-8a1e-de8e47e9e80e",
   "metadata": {},
   "outputs": [
    {
     "data": {
      "text/plain": [
       "KoopmanModel(\n",
       "  (encoder): SimpleGNN(\n",
       "    (conv1): GCNConv(2, 3)\n",
       "    (conv2): GCNConv(3, 3)\n",
       "  )\n",
       "  (decoder): SimpleGNN(\n",
       "    (conv1): GCNConv(3, 2)\n",
       "    (conv2): GCNConv(2, 2)\n",
       "  )\n",
       ")"
      ]
     },
     "execution_count": 76,
     "metadata": {},
     "output_type": "execute_result"
    }
   ],
   "source": [
    "save_folder = \"spring-koopman-models\"\n",
    "save_path = os.path.join(save_folder, \"spring-koopman-model-2.0.pth\")\n",
    "model = KoopmanModel(input_dim=2, koopman_dim=3).to(device)\n",
    "model.load_state_dict(torch.load(save_path, weights_only=True))\n",
    "model.eval()"
   ]
  },
  {
   "cell_type": "markdown",
   "id": "c9e7d211-e66f-4475-a475-6d2a8b8a6dd8",
   "metadata": {},
   "source": [
    "Generating Data For Testing"
   ]
  },
  {
   "cell_type": "code",
   "execution_count": 79,
   "id": "8fe63b81-efbe-4310-81d5-38307ed861d5",
   "metadata": {},
   "outputs": [],
   "source": [
    "num_masses = 4\n",
    "test_positions = np.random.rand(num_masses, 1)\n",
    "test_velocities = np.zeros((num_masses, 1))\n",
    "test_data = simulate(test_positions, test_velocities)"
   ]
  },
  {
   "cell_type": "code",
   "execution_count": 85,
   "id": "73a6cf10-86bf-43a0-8557-0a955095f52e",
   "metadata": {},
   "outputs": [
    {
     "name": "stderr",
     "output_type": "stream",
     "text": [
      "C:\\Users\\zeeda\\Documents\\GitHub\\Koopman-Operators-Learning-Model\\train.py:73: UserWarning: To copy construct from a tensor, it is recommended to use sourceTensor.clone().detach() or sourceTensor.clone().detach().requires_grad_(True), rather than torch.tensor(sourceTensor).\n",
      "  pos = torch.tensor(pos, dtype = torch.float).squeeze()\n",
      "C:\\Users\\zeeda\\Documents\\GitHub\\Koopman-Operators-Learning-Model\\train.py:74: UserWarning: To copy construct from a tensor, it is recommended to use sourceTensor.clone().detach() or sourceTensor.clone().detach().requires_grad_(True), rather than torch.tensor(sourceTensor).\n",
      "  val = torch.tensor(val, dtype = torch.float).squeeze()\n"
     ]
    },
    {
     "ename": "IndexError",
     "evalue": "Dimension out of range (expected to be in range of [-1, 0], but got 1)",
     "output_type": "error",
     "traceback": [
      "\u001b[1;31m---------------------------------------------------------------------------\u001b[0m",
      "\u001b[1;31mIndexError\u001b[0m                                Traceback (most recent call last)",
      "Cell \u001b[1;32mIn[85], line 4\u001b[0m\n\u001b[0;32m      2\u001b[0m test_velocities_tensor \u001b[38;5;241m=\u001b[39m torch\u001b[38;5;241m.\u001b[39mtensor(test_velocities, dtype \u001b[38;5;241m=\u001b[39m torch\u001b[38;5;241m.\u001b[39mfloat)\n\u001b[0;32m      3\u001b[0m test_input \u001b[38;5;241m=\u001b[39m torch\u001b[38;5;241m.\u001b[39mcat((test_positions_tensor, test_velocities_tensor), dim \u001b[38;5;241m=\u001b[39m \u001b[38;5;241m1\u001b[39m)\n\u001b[1;32m----> 4\u001b[0m data \u001b[38;5;241m=\u001b[39m [create_graph(pos, val, num_masses) \u001b[38;5;28;01mfor\u001b[39;00m pos, val \u001b[38;5;129;01min\u001b[39;00m test_input]\n",
      "File \u001b[1;32m~\\Documents\\GitHub\\Koopman-Operators-Learning-Model\\train.py:77\u001b[0m, in \u001b[0;36mcreate_graph\u001b[1;34m(pos, val, num_masses)\u001b[0m\n\u001b[0;32m     74\u001b[0m val \u001b[38;5;241m=\u001b[39m torch\u001b[38;5;241m.\u001b[39mtensor(val, dtype \u001b[38;5;241m=\u001b[39m torch\u001b[38;5;241m.\u001b[39mfloat)\u001b[38;5;241m.\u001b[39msqueeze()\n\u001b[0;32m     75\u001b[0m \u001b[38;5;66;03m# if(pos.size(0) != val.size(0)):\u001b[39;00m\n\u001b[0;32m     76\u001b[0m \u001b[38;5;66;03m#     raise ValueError(f\"Incompatible size pos={pos.size(0)}, val= {val.size(0)}\")\u001b[39;00m\n\u001b[1;32m---> 77\u001b[0m nodes \u001b[38;5;241m=\u001b[39m torch\u001b[38;5;241m.\u001b[39mstack([pos, val], dim\u001b[38;5;241m=\u001b[39m\u001b[38;5;241m1\u001b[39m)\n\u001b[0;32m     78\u001b[0m edges \u001b[38;5;241m=\u001b[39m torch\u001b[38;5;241m.\u001b[39mtensor([[i, i\u001b[38;5;241m+\u001b[39m\u001b[38;5;241m1\u001b[39m] \u001b[38;5;28;01mfor\u001b[39;00m i \u001b[38;5;129;01min\u001b[39;00m \u001b[38;5;28mrange\u001b[39m(num_masses \u001b[38;5;241m-\u001b[39m \u001b[38;5;241m1\u001b[39m)], dtype \u001b[38;5;241m=\u001b[39m torch\u001b[38;5;241m.\u001b[39mlong)\u001b[38;5;241m.\u001b[39mT\n\u001b[0;32m     79\u001b[0m \u001b[38;5;28;01mreturn\u001b[39;00m Data(x\u001b[38;5;241m=\u001b[39mnodes, edge_index \u001b[38;5;241m=\u001b[39medges)\n",
      "\u001b[1;31mIndexError\u001b[0m: Dimension out of range (expected to be in range of [-1, 0], but got 1)"
     ]
    }
   ],
   "source": [
    "test_positions_tensor = torch.tensor(test_positions, dtype = torch.float)\n",
    "test_velocities_tensor = torch.tensor(test_velocities, dtype = torch.float)\n",
    "test_input = torch.cat((test_positions_tensor, test_velocities_tensor), dim = 1)\n",
    "data = [create_graph(pos, val, num_masses) for pos, val in test_input]"
   ]
  },
  {
   "cell_type": "code",
   "execution_count": 83,
   "id": "d7a760f8-57bc-4326-9bc5-93d3b40c927f",
   "metadata": {},
   "outputs": [
    {
     "ename": "NameError",
     "evalue": "name 'data' is not defined",
     "output_type": "error",
     "traceback": [
      "\u001b[1;31m---------------------------------------------------------------------------\u001b[0m",
      "\u001b[1;31mNameError\u001b[0m                                 Traceback (most recent call last)",
      "Cell \u001b[1;32mIn[83], line 2\u001b[0m\n\u001b[0;32m      1\u001b[0m \u001b[38;5;28;01mwith\u001b[39;00m torch\u001b[38;5;241m.\u001b[39mno_grad():\n\u001b[1;32m----> 2\u001b[0m     predictions \u001b[38;5;241m=\u001b[39m model(data)\n",
      "\u001b[1;31mNameError\u001b[0m: name 'data' is not defined"
     ]
    }
   ],
   "source": [
    "with torch.no_grad():\n",
    "    predictions = model(data)"
   ]
  },
  {
   "cell_type": "code",
   "execution_count": null,
   "id": "0c8e8218-a26c-4a4b-b83d-c644c6dec7d4",
   "metadata": {},
   "outputs": [],
   "source": []
  }
 ],
 "metadata": {
  "kernelspec": {
   "display_name": "Python 3 (ipykernel)",
   "language": "python",
   "name": "python3"
  },
  "language_info": {
   "codemirror_mode": {
    "name": "ipython",
    "version": 3
   },
   "file_extension": ".py",
   "mimetype": "text/x-python",
   "name": "python",
   "nbconvert_exporter": "python",
   "pygments_lexer": "ipython3",
   "version": "3.11.3"
  }
 },
 "nbformat": 4,
 "nbformat_minor": 5
}
